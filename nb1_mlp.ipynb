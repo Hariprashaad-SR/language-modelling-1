{
  "nbformat": 4,
  "nbformat_minor": 0,
  "metadata": {
    "colab": {
      "provenance": []
    },
    "kernelspec": {
      "name": "python3",
      "display_name": "Python 3"
    },
    "language_info": {
      "name": "python"
    }
  },
  "cells": [
    {
      "cell_type": "markdown",
      "source": [
        "# **What is a Multilayer Perceptron Neural Network?**\n",
        "\n",
        "A multilayer perceptron (MLP) Neural network belongs to the feedforward neural network. It is an Artificial Neural Network in which all nodes are interconnected with nodes of different layers.  \n",
        "\n",
        " Perceptron is a basic unit of an artificial neural network that defines the artificial neuron in the neural network. It is a supervised learning algorithm containing nodes’ values, activation functions, inputs, and weights to calculate the output.\n",
        "\n",
        "The Multilayer Perceptron (MLP) Neural Network works only in the forward direction. All nodes are fully connected to the network. Each node passes its value to the coming node only in the forward direction. The MLP neural network uses a Backpropagation algorithm to increase the accuracy of the training model."
      ],
      "metadata": {
        "id": "rCHkQqJxDGUl"
      }
    },
    {
      "cell_type": "markdown",
      "source": [
        "### **Bengio et al - paper**"
      ],
      "metadata": {
        "id": "zz-GAGSNUZZa"
      }
    },
    {
      "cell_type": "code",
      "execution_count": null,
      "metadata": {
        "id": "S90Rql2oT4-x"
      },
      "outputs": [],
      "source": [
        "import torch\n",
        "import torch.nn.functional as F\n",
        "import matplotlib.pyplot as plt\n",
        "%matplotlib inline"
      ]
    },
    {
      "cell_type": "code",
      "source": [
        " words = open('names.txt', 'r').read().splitlines()\n",
        " words[:10]"
      ],
      "metadata": {
        "colab": {
          "base_uri": "https://localhost:8080/"
        },
        "id": "aBXjA1PYU9-_",
        "outputId": "71cceb53-c90b-48ff-e91e-c39e290886b1"
      },
      "execution_count": null,
      "outputs": [
        {
          "output_type": "execute_result",
          "data": {
            "text/plain": [
              "['emma',\n",
              " 'olivia',\n",
              " 'ava',\n",
              " 'isabella',\n",
              " 'sophia',\n",
              " 'charlotte',\n",
              " 'mia',\n",
              " 'amelia',\n",
              " 'harper',\n",
              " 'evelyn']"
            ]
          },
          "metadata": {},
          "execution_count": 4
        }
      ]
    },
    {
      "cell_type": "code",
      "source": [
        "len(words)"
      ],
      "metadata": {
        "colab": {
          "base_uri": "https://localhost:8080/"
        },
        "id": "msTq8oUQZXi6",
        "outputId": "65909a15-77e9-43f3-8925-218f1c4d11ae"
      },
      "execution_count": null,
      "outputs": [
        {
          "output_type": "execute_result",
          "data": {
            "text/plain": [
              "32033"
            ]
          },
          "metadata": {},
          "execution_count": 5
        }
      ]
    },
    {
      "cell_type": "code",
      "source": [
        "chars = sorted(list(set(''.join(words))))\n",
        "stoi = {s:i+1 for i,s in enumerate(chars)}\n",
        "stoi['.'] = 0\n",
        "itos = {i:s for s,i in stoi.items()}\n",
        "print(itos)"
      ],
      "metadata": {
        "colab": {
          "base_uri": "https://localhost:8080/"
        },
        "id": "MCJpeqkOZgWd",
        "outputId": "ed92cd74-fd86-4375-b54f-5fabe01f4ad2"
      },
      "execution_count": null,
      "outputs": [
        {
          "output_type": "stream",
          "name": "stdout",
          "text": [
            "{1: 'a', 2: 'b', 3: 'c', 4: 'd', 5: 'e', 6: 'f', 7: 'g', 8: 'h', 9: 'i', 10: 'j', 11: 'k', 12: 'l', 13: 'm', 14: 'n', 15: 'o', 16: 'p', 17: 'q', 18: 'r', 19: 's', 20: 't', 21: 'u', 22: 'v', 23: 'w', 24: 'x', 25: 'y', 26: 'z', 0: '.'}\n"
          ]
        }
      ]
    },
    {
      "cell_type": "code",
      "source": [
        "# build the dataset\n",
        "\n",
        "block_size = 3 # context length: how many characters do we take to predict the next one\n",
        "X, Y = [], []\n",
        "for w in words[:5]:\n",
        "  print('word = ', w)\n",
        "  context = [0] * block_size\n",
        "  for ch in w + '.':\n",
        "    ix = stoi[ch]\n",
        "    X.append(context)\n",
        "    Y.append(ix)\n",
        "    print(''.join(itos[i] for i in context), '---->', itos[ix])\n",
        "    context = context[1:] + [ix] # crop and append\n",
        "\n",
        "X = torch.tensor(X)\n",
        "Y = torch.tensor(Y)\n"
      ],
      "metadata": {
        "colab": {
          "base_uri": "https://localhost:8080/"
        },
        "id": "qOVVim1PZt8m",
        "outputId": "5c11c5b8-e16d-4151-c9c7-fbd4acea3077"
      },
      "execution_count": null,
      "outputs": [
        {
          "output_type": "stream",
          "name": "stdout",
          "text": [
            "word =  emma\n",
            "... ----> e\n",
            "..e ----> m\n",
            ".em ----> m\n",
            "emm ----> a\n",
            "mma ----> .\n",
            "word =  olivia\n",
            "... ----> o\n",
            "..o ----> l\n",
            ".ol ----> i\n",
            "oli ----> v\n",
            "liv ----> i\n",
            "ivi ----> a\n",
            "via ----> .\n",
            "word =  ava\n",
            "... ----> a\n",
            "..a ----> v\n",
            ".av ----> a\n",
            "ava ----> .\n",
            "word =  isabella\n",
            "... ----> i\n",
            "..i ----> s\n",
            ".is ----> a\n",
            "isa ----> b\n",
            "sab ----> e\n",
            "abe ----> l\n",
            "bel ----> l\n",
            "ell ----> a\n",
            "lla ----> .\n",
            "word =  sophia\n",
            "... ----> s\n",
            "..s ----> o\n",
            ".so ----> p\n",
            "sop ----> h\n",
            "oph ----> i\n",
            "phi ----> a\n",
            "hia ----> .\n"
          ]
        }
      ]
    },
    {
      "cell_type": "code",
      "source": [
        "X.shape, X.dtype, Y.shape, Y.dtype\n"
      ],
      "metadata": {
        "colab": {
          "base_uri": "https://localhost:8080/"
        },
        "id": "KdtQAzEUb8eh",
        "outputId": "35d2dab9-a027-44eb-d01d-3ba84caa01e9"
      },
      "execution_count": null,
      "outputs": [
        {
          "output_type": "execute_result",
          "data": {
            "text/plain": [
              "(torch.Size([32, 3]), torch.int64, torch.Size([32]), torch.int64)"
            ]
          },
          "metadata": {},
          "execution_count": 8
        }
      ]
    },
    {
      "cell_type": "code",
      "source": [
        "C = torch.randn((27, 2))"
      ],
      "metadata": {
        "id": "Qqviqq0UcC7x"
      },
      "execution_count": null,
      "outputs": []
    },
    {
      "cell_type": "markdown",
      "source": [
        "**M - 1**"
      ],
      "metadata": {
        "id": "GRhymET_dQGi"
      }
    },
    {
      "cell_type": "code",
      "source": [
        "ohe = F.one_hot(torch.tensor(5), num_classes=27).float()\n",
        "ohe"
      ],
      "metadata": {
        "colab": {
          "base_uri": "https://localhost:8080/"
        },
        "id": "BlMz08zHcm9A",
        "outputId": "696cf9ec-3648-4b5f-a0eb-010e163dd249"
      },
      "execution_count": null,
      "outputs": [
        {
          "output_type": "execute_result",
          "data": {
            "text/plain": [
              "tensor([0., 0., 0., 0., 0., 1., 0., 0., 0., 0., 0., 0., 0., 0., 0., 0., 0., 0.,\n",
              "        0., 0., 0., 0., 0., 0., 0., 0., 0.])"
            ]
          },
          "metadata": {},
          "execution_count": 10
        }
      ]
    },
    {
      "cell_type": "code",
      "source": [
        "ohe @ C"
      ],
      "metadata": {
        "colab": {
          "base_uri": "https://localhost:8080/"
        },
        "id": "xsYR3xINcxO3",
        "outputId": "6659ab9f-f0c6-4c3e-9fa8-a686629fc1e9"
      },
      "execution_count": null,
      "outputs": [
        {
          "output_type": "execute_result",
          "data": {
            "text/plain": [
              "tensor([ 1.9475, -0.1347])"
            ]
          },
          "metadata": {},
          "execution_count": 11
        }
      ]
    },
    {
      "cell_type": "markdown",
      "source": [
        "**M - 2**"
      ],
      "metadata": {
        "id": "xQFC-QubdMIe"
      }
    },
    {
      "cell_type": "code",
      "source": [
        "C[5]"
      ],
      "metadata": {
        "colab": {
          "base_uri": "https://localhost:8080/"
        },
        "id": "Q7OVV1EFchTD",
        "outputId": "e875c23b-b82b-4445-fbc8-cb4accff8d58"
      },
      "execution_count": null,
      "outputs": [
        {
          "output_type": "execute_result",
          "data": {
            "text/plain": [
              "tensor([ 1.9475, -0.1347])"
            ]
          },
          "metadata": {},
          "execution_count": 12
        }
      ]
    },
    {
      "cell_type": "code",
      "source": [
        "C[X].shape"
      ],
      "metadata": {
        "colab": {
          "base_uri": "https://localhost:8080/"
        },
        "id": "Lsx-jjs1dKPI",
        "outputId": "64ad0994-c37f-4f0e-f5d3-dcb3bac03cb0"
      },
      "execution_count": null,
      "outputs": [
        {
          "output_type": "execute_result",
          "data": {
            "text/plain": [
              "torch.Size([32, 3, 2])"
            ]
          },
          "metadata": {},
          "execution_count": 13
        }
      ]
    },
    {
      "cell_type": "code",
      "source": [
        "C[X][1] # (. . e ) embeddings"
      ],
      "metadata": {
        "colab": {
          "base_uri": "https://localhost:8080/"
        },
        "id": "8xi-V3E1eOnD",
        "outputId": "28e2a519-4b6d-4d3c-ff8f-b5186647fe11"
      },
      "execution_count": null,
      "outputs": [
        {
          "output_type": "execute_result",
          "data": {
            "text/plain": [
              "tensor([[ 0.3164, -0.3860],\n",
              "        [ 0.3164, -0.3860],\n",
              "        [ 1.9475, -0.1347]])"
            ]
          },
          "metadata": {},
          "execution_count": 14
        }
      ]
    },
    {
      "cell_type": "code",
      "source": [
        "C[0] # .(embeddings)"
      ],
      "metadata": {
        "colab": {
          "base_uri": "https://localhost:8080/"
        },
        "id": "Cj814Sq-em83",
        "outputId": "acfb1953-d686-4e2c-bbdc-194ead4a80cc"
      },
      "execution_count": null,
      "outputs": [
        {
          "output_type": "execute_result",
          "data": {
            "text/plain": [
              "tensor([ 0.3164, -0.3860])"
            ]
          },
          "metadata": {},
          "execution_count": 15
        }
      ]
    },
    {
      "cell_type": "markdown",
      "source": [
        "### **Embedding**"
      ],
      "metadata": {
        "id": "al5IxzW0fCTI"
      }
    },
    {
      "cell_type": "code",
      "source": [
        "emb = C[X]\n",
        "emb.shape"
      ],
      "metadata": {
        "colab": {
          "base_uri": "https://localhost:8080/"
        },
        "id": "lB5fTm62e33q",
        "outputId": "8b67df31-1456-45bf-99c2-432e5f5cf735"
      },
      "execution_count": null,
      "outputs": [
        {
          "output_type": "execute_result",
          "data": {
            "text/plain": [
              "torch.Size([32, 3, 2])"
            ]
          },
          "metadata": {},
          "execution_count": 16
        }
      ]
    },
    {
      "cell_type": "code",
      "source": [
        "W1 = torch.randn((6, 100))\n",
        "b1 = torch.randn(100)"
      ],
      "metadata": {
        "id": "_pbKlJF_fBXP"
      },
      "execution_count": null,
      "outputs": []
    },
    {
      "cell_type": "code",
      "source": [
        "torch.cat([emb[:, 0, :], emb[:, 1, :], emb[:, 2, :]], 1).shape"
      ],
      "metadata": {
        "colab": {
          "base_uri": "https://localhost:8080/"
        },
        "id": "q_8044vCfe6q",
        "outputId": "05477984-85f7-451a-f539-c96cec7f0782"
      },
      "execution_count": null,
      "outputs": [
        {
          "output_type": "execute_result",
          "data": {
            "text/plain": [
              "torch.Size([32, 6])"
            ]
          },
          "metadata": {},
          "execution_count": 18
        }
      ]
    },
    {
      "cell_type": "code",
      "source": [
        "torch.cat(torch.unbind(emb, 1), 1).shape\n"
      ],
      "metadata": {
        "colab": {
          "base_uri": "https://localhost:8080/"
        },
        "id": "5XO0o5DgiKkD",
        "outputId": "e8a2fd41-fc03-4885-93ff-1aab918bd459"
      },
      "execution_count": null,
      "outputs": [
        {
          "output_type": "execute_result",
          "data": {
            "text/plain": [
              "torch.Size([32, 6])"
            ]
          },
          "metadata": {},
          "execution_count": 19
        }
      ]
    },
    {
      "cell_type": "code",
      "source": [
        "wx = emb.view(-1, 6) @ W1 + b1\n",
        "wx"
      ],
      "metadata": {
        "colab": {
          "base_uri": "https://localhost:8080/"
        },
        "id": "l2HjQiSqhzqo",
        "outputId": "36fe8206-d873-4cb9-cd33-4c23688286e0"
      },
      "execution_count": null,
      "outputs": [
        {
          "output_type": "execute_result",
          "data": {
            "text/plain": [
              "tensor([[-2.2617,  0.3026, -0.1834,  ..., -0.6752, -0.7545,  0.3809],\n",
              "        [-1.8762, -2.2431,  0.1298,  ...,  0.3530,  0.9056, -0.0134],\n",
              "        [-3.7597,  1.0160, -0.8819,  ..., -1.1492,  0.5776,  0.5008],\n",
              "        ...,\n",
              "        [-0.2454,  1.7780,  1.9967,  ..., -0.1389, -3.6904,  1.3404],\n",
              "        [-1.8151,  1.8968, -0.9113,  ..., -1.6524, -1.4381, -0.0400],\n",
              "        [-2.5018, -4.9251,  1.3778,  ...,  3.9003, -0.2387, -0.8956]])"
            ]
          },
          "metadata": {},
          "execution_count": 21
        }
      ]
    },
    {
      "cell_type": "code",
      "source": [
        "h = torch.tanh(wx)\n",
        "h"
      ],
      "metadata": {
        "colab": {
          "base_uri": "https://localhost:8080/"
        },
        "id": "3OXDWHujk4Xg",
        "outputId": "d19c8bee-fd48-4518-96ab-1276e879ee37"
      },
      "execution_count": null,
      "outputs": [
        {
          "output_type": "execute_result",
          "data": {
            "text/plain": [
              "tensor([[-0.9785,  0.2937, -0.1814,  ..., -0.5884, -0.6379,  0.3635],\n",
              "        [-0.9542, -0.9777,  0.1291,  ...,  0.3390,  0.7190, -0.0134],\n",
              "        [-0.9989,  0.7682, -0.7074,  ..., -0.8175,  0.5209,  0.4628],\n",
              "        ...,\n",
              "        [-0.2406,  0.9445,  0.9638,  ..., -0.1380, -0.9988,  0.8718],\n",
              "        [-0.9483,  0.9560, -0.7217,  ..., -0.9292, -0.8933, -0.0400],\n",
              "        [-0.9867, -0.9999,  0.8805,  ...,  0.9992, -0.2343, -0.7141]])"
            ]
          },
          "metadata": {},
          "execution_count": 22
        }
      ]
    },
    {
      "cell_type": "code",
      "source": [
        "h.shape"
      ],
      "metadata": {
        "colab": {
          "base_uri": "https://localhost:8080/"
        },
        "id": "kzDRAPYvlBl5",
        "outputId": "ed0b69cb-2b71-4efb-e010-118ad291a66c"
      },
      "execution_count": null,
      "outputs": [
        {
          "output_type": "execute_result",
          "data": {
            "text/plain": [
              "torch.Size([32, 100])"
            ]
          },
          "metadata": {},
          "execution_count": 23
        }
      ]
    },
    {
      "cell_type": "code",
      "source": [
        "W2 = torch.randn((100, 27))\n",
        "b2 = torch.randn(27)\n"
      ],
      "metadata": {
        "id": "cNPV5D8FlCse"
      },
      "execution_count": null,
      "outputs": []
    },
    {
      "cell_type": "code",
      "source": [
        "logits = h @ W2 + b2\n",
        "logits.shape"
      ],
      "metadata": {
        "colab": {
          "base_uri": "https://localhost:8080/"
        },
        "id": "20sYAdCVlcyv",
        "outputId": "ca935407-b3db-488f-f74d-f5f4194430b9"
      },
      "execution_count": null,
      "outputs": [
        {
          "output_type": "execute_result",
          "data": {
            "text/plain": [
              "torch.Size([32, 27])"
            ]
          },
          "metadata": {},
          "execution_count": 25
        }
      ]
    },
    {
      "cell_type": "code",
      "source": [
        "exp = logits.exp()"
      ],
      "metadata": {
        "id": "ZtDXte7ZltYN"
      },
      "execution_count": null,
      "outputs": []
    },
    {
      "cell_type": "code",
      "source": [
        "prob = exp / exp.sum(1, keepdim = True)\n",
        "prob.shape"
      ],
      "metadata": {
        "colab": {
          "base_uri": "https://localhost:8080/"
        },
        "id": "kVq8-S9XlxfN",
        "outputId": "239877b4-ea68-4da8-c0f8-0c33aadc451c"
      },
      "execution_count": null,
      "outputs": [
        {
          "output_type": "execute_result",
          "data": {
            "text/plain": [
              "torch.Size([32, 27])"
            ]
          },
          "metadata": {},
          "execution_count": 27
        }
      ]
    },
    {
      "cell_type": "code",
      "source": [
        "prob[torch.arange(32), Y]"
      ],
      "metadata": {
        "colab": {
          "base_uri": "https://localhost:8080/"
        },
        "id": "74cCth3rl68b",
        "outputId": "a16aa2a1-bf71-47e7-8b0d-f7ff05c78c2c"
      },
      "execution_count": null,
      "outputs": [
        {
          "output_type": "execute_result",
          "data": {
            "text/plain": [
              "tensor([2.2034e-07, 4.3348e-10, 1.9209e-01, 1.4635e-05, 2.4339e-09, 1.2634e-03,\n",
              "        1.3507e-05, 6.1496e-08, 1.5371e-03, 7.3940e-07, 9.9095e-07, 2.7236e-05,\n",
              "        1.7566e-05, 2.4789e-01, 1.2743e-08, 2.0233e-09, 1.0570e-04, 1.1739e-05,\n",
              "        8.4769e-07, 2.0365e-08, 9.4441e-12, 6.2366e-07, 1.1092e-07, 4.7038e-05,\n",
              "        5.5696e-06, 1.0202e-04, 5.1866e-10, 1.4964e-04, 2.8825e-12, 1.9508e-06,\n",
              "        3.8258e-04, 8.6100e-07])"
            ]
          },
          "metadata": {},
          "execution_count": 28
        }
      ]
    },
    {
      "cell_type": "code",
      "source": [],
      "metadata": {
        "id": "2enkgrLgoD-O"
      },
      "execution_count": null,
      "outputs": []
    },
    {
      "cell_type": "markdown",
      "source": [
        "### Summarizing the above"
      ],
      "metadata": {
        "id": "m6lNvNY7qyyb"
      }
    },
    {
      "cell_type": "code",
      "source": [
        "X.shape, Y.shape"
      ],
      "metadata": {
        "colab": {
          "base_uri": "https://localhost:8080/"
        },
        "id": "t3KcWFGjq0zx",
        "outputId": "2a77503c-2d6a-46b2-e297-ae6d0c13ab32"
      },
      "execution_count": null,
      "outputs": [
        {
          "output_type": "execute_result",
          "data": {
            "text/plain": [
              "(torch.Size([32, 3]), torch.Size([32]))"
            ]
          },
          "metadata": {},
          "execution_count": 29
        }
      ]
    },
    {
      "cell_type": "code",
      "source": [
        "g = torch.Generator().manual_seed(2147483647)\n",
        "C = torch.randn((27, 2), generator=g,requires_grad= True)\n",
        "\n",
        "# Weights and bias\n",
        "W1 = torch.randn((6, 100), generator=g, requires_grad= True)\n",
        "b1 = torch.randn(100, generator=g,requires_grad= True)\n",
        "\n",
        "W2 = torch.randn((100, 27), generator=g,requires_grad= True)\n",
        "b2 = torch.randn(27, generator=g,requires_grad= True)\n",
        "\n",
        "parameters = [C, W1, b1, W2, b2]"
      ],
      "metadata": {
        "id": "BpykMukGq4C0"
      },
      "execution_count": null,
      "outputs": []
    },
    {
      "cell_type": "code",
      "source": [
        "emb = C[X]\n",
        "\n",
        "wx = emb.view(-1,6) @ W1 + b1\n",
        "h = torch.tanh(wx)\n",
        "\n",
        "logits = h @ W2 + b2\n",
        "exp = logits.exp()\n",
        "prob = exp / exp.sum(1, keepdim = True)\n",
        "prob[torch.arange(32), Y]\n",
        "\n",
        "loss = -prob[torch.arange(32), Y].log().mean()\n",
        "loss\n"
      ],
      "metadata": {
        "colab": {
          "base_uri": "https://localhost:8080/"
        },
        "id": "RiOTdJHTrf7r",
        "outputId": "360234e0-d886-4565-9df3-11da5431c3b6"
      },
      "execution_count": null,
      "outputs": [
        {
          "output_type": "execute_result",
          "data": {
            "text/plain": [
              "tensor(17.7697, grad_fn=<NegBackward0>)"
            ]
          },
          "metadata": {},
          "execution_count": 31
        }
      ]
    },
    {
      "cell_type": "markdown",
      "source": [
        "### ***Now computing the above using cross entropy given in torch.nn.functional as it implements it very easily***"
      ],
      "metadata": {
        "id": "jB8M42Szs7u-"
      }
    },
    {
      "cell_type": "code",
      "source": [
        "emb = C[X]\n",
        "\n",
        "wx = emb.view(-1,6) @ W1 + b1\n",
        "h = torch.tanh(wx)\n",
        "\n",
        "logits = h @ W2 + b2\n",
        "loss = F.cross_entropy(logits, Y)\n",
        "loss"
      ],
      "metadata": {
        "colab": {
          "base_uri": "https://localhost:8080/"
        },
        "id": "GmTnKBrgsNV8",
        "outputId": "82c4fef1-87be-482f-c652-8e3036778c14"
      },
      "execution_count": null,
      "outputs": [
        {
          "output_type": "execute_result",
          "data": {
            "text/plain": [
              "tensor(17.7697, grad_fn=<NllLossBackward0>)"
            ]
          },
          "metadata": {},
          "execution_count": 32
        }
      ]
    },
    {
      "cell_type": "code",
      "source": [
        "g = torch.Generator().manual_seed(2147483647)\n",
        "C = torch.randn((27, 2), generator=g,requires_grad= True)\n",
        "\n",
        "# Weights and bias\n",
        "W1 = torch.randn((6, 100), generator=g, requires_grad= True)\n",
        "b1 = torch.randn(100, generator=g,requires_grad= True)\n",
        "\n",
        "W2 = torch.randn((100, 27), generator=g,requires_grad= True)\n",
        "b2 = torch.randn(27, generator=g,requires_grad= True)\n",
        "\n",
        "parameters = [C, W1, b1, W2, b2]"
      ],
      "metadata": {
        "id": "j_XQx_jzvBqM"
      },
      "execution_count": null,
      "outputs": []
    },
    {
      "cell_type": "code",
      "source": [
        "for epoch in range(20):\n",
        "  # forward pass\n",
        "  emb = C[X]\n",
        "  h = torch.tanh(emb.view(-1,6) @ W1 + b1)\n",
        "  logits = h @ W2 + b2\n",
        "  loss = F.cross_entropy(logits, Y)\n",
        "  print(loss.item())\n",
        "\n",
        "  # backward pass\n",
        "  for p in parameters:\n",
        "    p.grad = None\n",
        "  loss.backward()\n",
        "\n",
        "  # update parameters\n",
        "  for p in parameters:\n",
        "    p.data += -0.1 * p.grad"
      ],
      "metadata": {
        "colab": {
          "base_uri": "https://localhost:8080/"
        },
        "id": "I3lhtju9tdFU",
        "outputId": "918cb593-3f36-4221-e45b-19dc65432c4f"
      },
      "execution_count": null,
      "outputs": [
        {
          "output_type": "stream",
          "name": "stdout",
          "text": [
            "17.76971435546875\n",
            "13.656401634216309\n",
            "11.298768997192383\n",
            "9.452455520629883\n",
            "7.984262466430664\n",
            "6.891321182250977\n",
            "6.100014686584473\n",
            "5.452036380767822\n",
            "4.898151874542236\n",
            "4.414664268493652\n",
            "3.985848903656006\n",
            "3.6028308868408203\n",
            "3.2621419429779053\n",
            "2.961381196975708\n",
            "2.6982977390289307\n",
            "2.469712972640991\n",
            "2.271660327911377\n",
            "2.101283550262451\n",
            "1.9571774005889893\n",
            "1.8374857902526855\n"
          ]
        }
      ]
    },
    {
      "cell_type": "code",
      "source": [
        "params = [x.nelement() for x in parameters]\n",
        "sum(params)"
      ],
      "metadata": {
        "colab": {
          "base_uri": "https://localhost:8080/"
        },
        "id": "V9petxM9vEHL",
        "outputId": "1268ae2d-14a2-4841-e884-3ea5a13c3c86"
      },
      "execution_count": null,
      "outputs": [
        {
          "output_type": "execute_result",
          "data": {
            "text/plain": [
              "3481"
            ]
          },
          "metadata": {},
          "execution_count": 35
        }
      ]
    },
    {
      "cell_type": "code",
      "source": [
        "logits.max(1)"
      ],
      "metadata": {
        "colab": {
          "base_uri": "https://localhost:8080/"
        },
        "id": "26Gy73b8vc_o",
        "outputId": "f5f647a0-9d46-4233-a3cc-8aa8bcece7f6"
      },
      "execution_count": null,
      "outputs": [
        {
          "output_type": "execute_result",
          "data": {
            "text/plain": [
              "torch.return_types.max(\n",
              "values=tensor([10.3765,  9.7808, 15.9531, 12.4269,  9.9291, 10.3765,  9.5849,  8.9140,\n",
              "        12.1949, 13.1641,  9.6580, 15.8070, 10.3765, 10.6189, 10.8523, 12.6976,\n",
              "        10.3765, 10.7718,  9.2004, 10.3824, 13.9289, 10.7242,  5.9444,  8.6032,\n",
              "        12.9098, 10.3765, 10.8209, 11.4580,  8.9440, 13.7776, 11.3997,  9.6567],\n",
              "       grad_fn=<MaxBackward0>),\n",
              "indices=tensor([ 1, 12, 13,  1, 15,  1, 12,  9,  9,  9,  1,  0,  1,  0,  1,  0,  1, 19,\n",
              "         1,  2,  5, 12, 12,  9,  0,  1, 15, 16,  8,  9,  1,  0]))"
            ]
          },
          "metadata": {},
          "execution_count": 40
        }
      ]
    },
    {
      "cell_type": "markdown",
      "source": [
        "### What we done above is overfitting the model as we just used 32 data points for modelling 3481 parameters"
      ],
      "metadata": {
        "id": "BnJWywOfvdn-"
      }
    },
    {
      "cell_type": "code",
      "source": [
        "# build the dataset\n",
        "\n",
        "block_size = 3 # context length: how many characters do we take to predict the next one\n",
        "X, Y = [], []\n",
        "for w in words:\n",
        "  context = [0] * block_size\n",
        "  for ch in w + '.':\n",
        "    ix = stoi[ch]\n",
        "    X.append(context)\n",
        "    Y.append(ix)\n",
        "    #print(''.join(itos[i] for i in context), '---->', itos[ix])\n",
        "    context = context[1:] + [ix] # crop and append\n",
        "\n",
        "X = torch.tensor(X)\n",
        "Y = torch.tensor(Y)"
      ],
      "metadata": {
        "id": "g7J3j1MEv8f4"
      },
      "execution_count": null,
      "outputs": []
    },
    {
      "cell_type": "code",
      "source": [
        "g = torch.Generator().manual_seed(2147483647)\n",
        "C = torch.randn((27, 2), generator=g,requires_grad= True)\n",
        "\n",
        "# Weights and bias\n",
        "W1 = torch.randn((6, 100), generator=g, requires_grad= True)\n",
        "b1 = torch.randn(100, generator=g,requires_grad= True)\n",
        "\n",
        "W2 = torch.randn((100, 27), generator=g,requires_grad= True)\n",
        "b2 = torch.randn(27, generator=g,requires_grad= True)\n",
        "\n",
        "parameters = [C, W1, b1, W2, b2]"
      ],
      "metadata": {
        "id": "sATjUx8BC5Ct"
      },
      "execution_count": null,
      "outputs": []
    },
    {
      "cell_type": "code",
      "source": [
        "losses = []\n",
        "\n",
        "for epoch in range(100):\n",
        "  # forward pass\n",
        "  emb = C[X]\n",
        "  h = torch.tanh(emb.view(-1,6) @ W1 + b1)\n",
        "  logits = h @ W2 + b2\n",
        "  loss = F.cross_entropy(logits, Y)\n",
        "  losses.append(loss.item())\n",
        "\n",
        "  # backward pass\n",
        "  for p in parameters:\n",
        "    p.grad = None\n",
        "  loss.backward()\n",
        "\n",
        "  # update parameters\n",
        "  for p in parameters:\n",
        "    p.data += -0.1 * p.grad"
      ],
      "metadata": {
        "id": "-ToYtyTmC5F1"
      },
      "execution_count": null,
      "outputs": []
    },
    {
      "cell_type": "code",
      "source": [
        "loss.item()"
      ],
      "metadata": {
        "colab": {
          "base_uri": "https://localhost:8080/"
        },
        "id": "2a0ZHQqKGgZW",
        "outputId": "600b439a-7943-42b5-c593-fd2ad765d59c"
      },
      "execution_count": null,
      "outputs": [
        {
          "output_type": "execute_result",
          "data": {
            "text/plain": [
              "3.5892493724823"
            ]
          },
          "metadata": {},
          "execution_count": 62
        }
      ]
    },
    {
      "cell_type": "code",
      "source": [
        "plt.plot(range(100), losses)\n",
        "plt.ylabel('Loss')\n",
        "plt.xlabel('epochs')\n",
        "plt.title('Gradient descend stat')"
      ],
      "metadata": {
        "colab": {
          "base_uri": "https://localhost:8080/",
          "height": 490
        },
        "id": "Pe5-W1xEGnPn",
        "outputId": "e7e6ab3b-62f3-43b0-9fe7-71fa98266dc9"
      },
      "execution_count": null,
      "outputs": [
        {
          "output_type": "execute_result",
          "data": {
            "text/plain": [
              "Text(0.5, 1.0, 'Gradient descend stat')"
            ]
          },
          "metadata": {},
          "execution_count": 64
        },
        {
          "output_type": "display_data",
          "data": {
            "text/plain": [
              "<Figure size 640x480 with 1 Axes>"
            ],
            "image/png": "[encoded data removed]"
          },
          "metadata": {}
        }
      ]
    },
    {
      "cell_type": "markdown",
      "source": [
        "### The above training is time-consuming, so we will use a mini-batch version of the above"
      ],
      "metadata": {
        "id": "kaUwTY79DSsn"
      }
    },
    {
      "cell_type": "code",
      "source": [
        "g = torch.Generator().manual_seed(2147483647)\n",
        "C = torch.randn((27, 2), generator=g,requires_grad= True)\n",
        "\n",
        "# Weights and bias\n",
        "W1 = torch.randn((6, 100), generator=g, requires_grad= True)\n",
        "b1 = torch.randn(100, generator=g,requires_grad= True)\n",
        "\n",
        "W2 = torch.randn((100, 27), generator=g,requires_grad= True)\n",
        "b2 = torch.randn(27, generator=g,requires_grad= True)\n",
        "\n",
        "parameters = [C, W1, b1, W2, b2]"
      ],
      "metadata": {
        "id": "4I3g0lXKDmZy"
      },
      "execution_count": null,
      "outputs": []
    },
    {
      "cell_type": "code",
      "source": [
        "losses = []\n",
        "\n",
        "for epoch in range(100):\n",
        "\n",
        "  # minibatch\n",
        "  ix = torch.randint(0, X.shape[0], (32,))\n",
        "\n",
        "  # forward pass\n",
        "  emb = C[X[ix]]   # (32, 2, 3)\n",
        "  h = torch.tanh(emb.view(-1,6) @ W1 + b1)   # (32, 100)\n",
        "  logits = h @ W2 + b2   # (32, 27)\n",
        "  loss = F.cross_entropy(logits, Y[ix])\n",
        "  losses.append(loss.item())\n",
        "\n",
        "  # backward pass\n",
        "  for p in parameters:\n",
        "    p.grad = None\n",
        "  loss.backward()\n",
        "\n",
        "  # update parameters\n",
        "  for p in parameters:\n",
        "    p.data += -0.1 * p.grad"
      ],
      "metadata": {
        "id": "R_Z0fRAWDZzK"
      },
      "execution_count": null,
      "outputs": []
    },
    {
      "cell_type": "code",
      "source": [
        "loss.item()"
      ],
      "metadata": {
        "colab": {
          "base_uri": "https://localhost:8080/"
        },
        "id": "jFai5SzGGDqG",
        "outputId": "8a147069-0943-4b95-feb4-59618eec69a6"
      },
      "execution_count": null,
      "outputs": [
        {
          "output_type": "execute_result",
          "data": {
            "text/plain": [
              "4.153761386871338"
            ]
          },
          "metadata": {},
          "execution_count": 55
        }
      ]
    },
    {
      "cell_type": "code",
      "source": [
        "plt.plot(range(100), losses)\n",
        "plt.ylabel('Loss')\n",
        "plt.xlabel('epochs')\n",
        "plt.title('Minibatch stat')"
      ],
      "metadata": {
        "colab": {
          "base_uri": "https://localhost:8080/",
          "height": 490
        },
        "id": "oZ11UQdmGGBE",
        "outputId": "37ee8337-74c5-4801-cdb2-c96fde0201ff"
      },
      "execution_count": null,
      "outputs": [
        {
          "output_type": "execute_result",
          "data": {
            "text/plain": [
              "Text(0.5, 1.0, 'Minibatch stat')"
            ]
          },
          "metadata": {},
          "execution_count": 57
        },
        {
          "output_type": "display_data",
          "data": {
            "text/plain": [
              "<Figure size 640x480 with 1 Axes>"
            ],
            "image/png": "[encoded data removed]"
          },
          "metadata": {}
        }
      ]
    },
    {
      "cell_type": "markdown",
      "source": [
        "### Though the above initially have a higher loss, the training is very fast compared to the former"
      ],
      "metadata": {
        "id": "jkeyCcP8EO6M"
      }
    },
    {
      "cell_type": "markdown",
      "source": [
        "## **Finding a good learing rate**"
      ],
      "metadata": {
        "id": "mAvggx8EHRKr"
      }
    },
    {
      "cell_type": "code",
      "source": [
        "lre = torch.linspace(-3, 0, 1000)\n",
        "lrs = 10**lre\n",
        "lrs[-10 :]"
      ],
      "metadata": {
        "colab": {
          "base_uri": "https://localhost:8080/"
        },
        "id": "2KwyKCqYHZBA",
        "outputId": "b766ddb4-cea5-40af-e8aa-98cb740563bf"
      },
      "execution_count": null,
      "outputs": [
        {
          "output_type": "execute_result",
          "data": {
            "text/plain": [
              "tensor([0.9397, 0.9462, 0.9528, 0.9594, 0.9660, 0.9727, 0.9795, 0.9863, 0.9931,\n",
              "        1.0000])"
            ]
          },
          "metadata": {},
          "execution_count": 93
        }
      ]
    },
    {
      "cell_type": "code",
      "source": [
        "g = torch.Generator().manual_seed(2147483647)\n",
        "C = torch.randn((27, 2), generator=g,requires_grad= True)\n",
        "\n",
        "# Weights and bias\n",
        "W1 = torch.randn((6, 100), generator=g, requires_grad= True)\n",
        "b1 = torch.randn(100, generator=g,requires_grad= True)\n",
        "\n",
        "W2 = torch.randn((100, 27), generator=g,requires_grad= True)\n",
        "b2 = torch.randn(27, generator=g,requires_grad= True)\n",
        "\n",
        "parameters = [C, W1, b1, W2, b2]"
      ],
      "metadata": {
        "id": "167kr9IqEVIH"
      },
      "execution_count": null,
      "outputs": []
    },
    {
      "cell_type": "code",
      "source": [
        "losses = []\n",
        "lratei = []\n",
        "lratee = []\n",
        "\n",
        "for epoch in range(1000):\n",
        "\n",
        "  # minibatch\n",
        "  ix = torch.randint(0, X.shape[0], (32,))\n",
        "\n",
        "  # forward pass\n",
        "  emb = C[X[ix]]   # (32, 2, 3)\n",
        "  h = torch.tanh(emb.view(-1,6) @ W1 + b1)   # (32, 100)\n",
        "  logits = h @ W2 + b2   # (32, 27)\n",
        "  loss = F.cross_entropy(logits, Y[ix])\n",
        "\n",
        "  # backward pass\n",
        "  for p in parameters:\n",
        "    p.grad = None\n",
        "  loss.backward()\n",
        "\n",
        "  lr = lrs[epoch]\n",
        "  # update parameters\n",
        "  for p in parameters:\n",
        "    p.data += -lr * p.grad\n",
        "\n",
        "  losses.append(loss.item())\n",
        "  lratei.append(lr)\n",
        "  lratee.append(lre[epoch])"
      ],
      "metadata": {
        "id": "BA2CUIeqHKIt"
      },
      "execution_count": null,
      "outputs": []
    },
    {
      "cell_type": "code",
      "source": [
        "plt.plot(lratei, losses)\n",
        "plt.ylabel('Loss')\n",
        "plt.xlabel('learning rate')\n"
      ],
      "metadata": {
        "colab": {
          "base_uri": "https://localhost:8080/",
          "height": 467
        },
        "id": "2vcTCfLvH74E",
        "outputId": "d0640ee1-119d-4329-997f-6071252b5cf5"
      },
      "execution_count": null,
      "outputs": [
        {
          "output_type": "execute_result",
          "data": {
            "text/plain": [
              "Text(0.5, 0, 'learning rate')"
            ]
          },
          "metadata": {},
          "execution_count": 101
        },
        {
          "output_type": "display_data",
          "data": {
            "text/plain": [
              "<Figure size 640x480 with 1 Axes>"
            ],
            "image/png": "[encoded data removed]"
          },
          "metadata": {}
        }
      ]
    },
    {
      "cell_type": "code",
      "source": [
        "plt.plot(lratee, losses)\n",
        "plt.ylabel('Loss')\n",
        "plt.xlabel('learning rate(exp)')"
      ],
      "metadata": {
        "colab": {
          "base_uri": "https://localhost:8080/",
          "height": 467
        },
        "id": "0kp3_QahJcPN",
        "outputId": "d479aec3-bb3a-41d6-e65e-26a38754f483"
      },
      "execution_count": null,
      "outputs": [
        {
          "output_type": "execute_result",
          "data": {
            "text/plain": [
              "Text(0.5, 0, 'learning rate(exp)')"
            ]
          },
          "metadata": {},
          "execution_count": 102
        },
        {
          "output_type": "display_data",
          "data": {
            "text/plain": [
              "<Figure size 640x480 with 1 Axes>"
            ],
            "image/png": "[encoded data removed]"
          },
          "metadata": {}
        }
      ]
    },
    {
      "cell_type": "code",
      "source": [
        "lrs[losses.index(min(losses))] # Good learning rate"
      ],
      "metadata": {
        "colab": {
          "base_uri": "https://localhost:8080/"
        },
        "id": "ZwkAfovuJ-7_",
        "outputId": "d8bd948a-85d3-49d0-a4b8-c93fdb89fe7d"
      },
      "execution_count": null,
      "outputs": [
        {
          "output_type": "execute_result",
          "data": {
            "text/plain": [
              "tensor(0.1283)"
            ]
          },
          "metadata": {},
          "execution_count": 105
        }
      ]
    },
    {
      "cell_type": "markdown",
      "source": [
        "**We will now train the model using minibatch for 25000 epochs with a learning rate of 0.12**\n",
        "\n",
        "\n",
        "\n"
      ],
      "metadata": {
        "id": "j-l1k5kGK9tu"
      }
    },
    {
      "cell_type": "code",
      "source": [
        "g = torch.Generator().manual_seed(2147483647)\n",
        "C = torch.randn((27, 2), generator=g,requires_grad= True)\n",
        "\n",
        "# Weights and bias\n",
        "W1 = torch.randn((6, 100), generator=g, requires_grad= True)\n",
        "b1 = torch.randn(100, generator=g,requires_grad= True)\n",
        "\n",
        "W2 = torch.randn((100, 27), generator=g,requires_grad= True)\n",
        "b2 = torch.randn(27, generator=g,requires_grad= True)\n",
        "\n",
        "parameters = [C, W1, b1, W2, b2]"
      ],
      "metadata": {
        "id": "i01IdNwrKyho"
      },
      "execution_count": null,
      "outputs": []
    },
    {
      "cell_type": "code",
      "source": [
        "lr = 0.12\n",
        "\n",
        "for epoch in range(25000):\n",
        "\n",
        "  # minibatch\n",
        "  ix = torch.randint(0, X.shape[0], (32,))\n",
        "\n",
        "  # forward pass\n",
        "  emb = C[X[ix]]   # (32, 2, 3)\n",
        "  h = torch.tanh(emb.view(-1,6) @ W1 + b1)   # (32, 100)\n",
        "  logits = h @ W2 + b2   # (32, 27)\n",
        "  loss = F.cross_entropy(logits, Y[ix])\n",
        "\n",
        "  # backward pass\n",
        "  for p in parameters:\n",
        "    p.grad = None\n",
        "  loss.backward()\n",
        "\n",
        "  # update parameters\n",
        "  for p in parameters:\n",
        "    p.data += -lr * p.grad"
      ],
      "metadata": {
        "id": "1mHM_BW8K1QU"
      },
      "execution_count": null,
      "outputs": []
    },
    {
      "cell_type": "code",
      "source": [
        "loss.item()"
      ],
      "metadata": {
        "colab": {
          "base_uri": "https://localhost:8080/"
        },
        "id": "uO0R1_WELSPP",
        "outputId": "5847e143-a654-4853-db60-0f2f71481668"
      },
      "execution_count": null,
      "outputs": [
        {
          "output_type": "execute_result",
          "data": {
            "text/plain": [
              "2.301452875137329"
            ]
          },
          "metadata": {},
          "execution_count": 111
        }
      ]
    },
    {
      "cell_type": "code",
      "source": [],
      "metadata": {
        "id": "1X-975tULndI"
      },
      "execution_count": null,
      "outputs": []
    },
    {
      "cell_type": "markdown",
      "source": [
        "* Training set - parameter tuning (80%)\n",
        "* Validataion set - hyperparamter tuning (10%)\n",
        "* Test set - evaluation (10%)"
      ],
      "metadata": {
        "id": "kRplL8ToMMGY"
      }
    },
    {
      "cell_type": "markdown",
      "source": [
        "# **Actual model**"
      ],
      "metadata": {
        "id": "Dr3IqxpMNdxi"
      }
    },
    {
      "cell_type": "code",
      "source": [
        "def build_dataset(words):\n",
        "  # build the dataset\n",
        "\n",
        "  block_size = 3 # context length: how many characters do we take to predict the next one\n",
        "  X, Y = [], []\n",
        "  for w in words:\n",
        "    context = [0] * block_size\n",
        "    for ch in w + '.':\n",
        "      ix = stoi[ch]\n",
        "      X.append(context)\n",
        "      Y.append(ix)\n",
        "      #print(''.join(itos[i] for i in context), '---->', itos[ix])\n",
        "      context = context[1:] + [ix] # crop and append\n",
        "\n",
        "  X = torch.tensor(X)\n",
        "  Y = torch.tensor(Y)\n",
        "  print(X.shape, Y.shape)\n",
        "  return X, Y"
      ],
      "metadata": {
        "id": "8aR3NBD5MfcS"
      },
      "execution_count": null,
      "outputs": []
    },
    {
      "cell_type": "code",
      "source": [
        "import random\n",
        "\n",
        "random.seed(42)\n",
        "random.shuffle(words)\n",
        "\n",
        "n1 = int(0.8*len(words))\n",
        "n2 = int(0.9*len(words))\n",
        "\n",
        "Xtr, Ytr = build_dataset(words[:n1])\n",
        "Xval, Yval = build_dataset(words[n1:n2])\n",
        "Xte, Yte = build_dataset(words[n2:])"
      ],
      "metadata": {
        "colab": {
          "base_uri": "https://localhost:8080/"
        },
        "id": "MWrEQAP0Mxju",
        "outputId": "bc67aba1-513e-45a5-837c-efd5050b6b83"
      },
      "execution_count": null,
      "outputs": [
        {
          "output_type": "stream",
          "name": "stdout",
          "text": [
            "torch.Size([182625, 3]) torch.Size([182625])\n",
            "torch.Size([22655, 3]) torch.Size([22655])\n",
            "torch.Size([22866, 3]) torch.Size([22866])\n"
          ]
        }
      ]
    },
    {
      "cell_type": "code",
      "source": [
        "Xtr.shape, Ytr.shape"
      ],
      "metadata": {
        "colab": {
          "base_uri": "https://localhost:8080/"
        },
        "id": "v-MOH5S6Maxw",
        "outputId": "9693d2a2-8284-402a-bc0e-4aeee2594d55"
      },
      "execution_count": null,
      "outputs": [
        {
          "output_type": "execute_result",
          "data": {
            "text/plain": [
              "(torch.Size([182625, 3]), torch.Size([182625]))"
            ]
          },
          "metadata": {},
          "execution_count": 114
        }
      ]
    },
    {
      "cell_type": "code",
      "source": [
        "g = torch.Generator().manual_seed(2147483647)\n",
        "C = torch.randn((27, 2), generator=g,requires_grad= True)\n",
        "\n",
        "# Weights and bias\n",
        "W1 = torch.randn((6, 100), generator=g, requires_grad= True)\n",
        "b1 = torch.randn(100, generator=g,requires_grad= True)\n",
        "\n",
        "W2 = torch.randn((100, 27), generator=g,requires_grad= True)\n",
        "b2 = torch.randn(27, generator=g,requires_grad= True)\n",
        "\n",
        "parameters = [C, W1, b1, W2, b2]"
      ],
      "metadata": {
        "id": "RL5YPr-oNoom"
      },
      "execution_count": null,
      "outputs": []
    },
    {
      "cell_type": "code",
      "source": [
        "lr = 0.12\n",
        "\n",
        "for epoch in range(50000):\n",
        "\n",
        "  # minibatch\n",
        "  ix = torch.randint(0, Xtr.shape[0], (32,))\n",
        "\n",
        "  # forward pass\n",
        "  emb = C[Xtr[ix]]   # (32, 2, 3)\n",
        "  h = torch.tanh(emb.view(-1,6) @ W1 + b1)   # (32, 100)\n",
        "  logits = h @ W2 + b2   # (32, 27)\n",
        "  loss = F.cross_entropy(logits, Ytr[ix])\n",
        "\n",
        "  # backward pass\n",
        "  for p in parameters:\n",
        "    p.grad = None\n",
        "  loss.backward()\n",
        "\n",
        "  # update parameters\n",
        "  for p in parameters:\n",
        "    p.data += -lr * p.grad"
      ],
      "metadata": {
        "id": "q1_0p4PlN809"
      },
      "execution_count": null,
      "outputs": []
    },
    {
      "cell_type": "code",
      "source": [
        "loss.item()"
      ],
      "metadata": {
        "colab": {
          "base_uri": "https://localhost:8080/"
        },
        "id": "rJqu1HpfN83J",
        "outputId": "e33034eb-abe5-408f-f613-56554da643ef"
      },
      "execution_count": null,
      "outputs": [
        {
          "output_type": "execute_result",
          "data": {
            "text/plain": [
              "2.629160165786743"
            ]
          },
          "metadata": {},
          "execution_count": 142
        }
      ]
    },
    {
      "cell_type": "code",
      "source": [
        "emb = C[Xtr]   # (32, 2, 3)\n",
        "h = torch.tanh(emb.view(-1,6) @ W1 + b1)   # (32, 100)\n",
        "logits = h @ W2 + b2   # (32, 27)\n",
        "loss = F.cross_entropy(logits, Ytr)\n",
        "loss"
      ],
      "metadata": {
        "colab": {
          "base_uri": "https://localhost:8080/"
        },
        "id": "tcIVjBqLN85T",
        "outputId": "bc9849ee-ae6e-4a91-935c-b757b26eb286"
      },
      "execution_count": null,
      "outputs": [
        {
          "output_type": "execute_result",
          "data": {
            "text/plain": [
              "tensor(2.3721, grad_fn=<NllLossBackward0>)"
            ]
          },
          "metadata": {},
          "execution_count": 143
        }
      ]
    },
    {
      "cell_type": "code",
      "source": [
        "emb = C[Xval]   # (32, 2, 3)\n",
        "h = torch.tanh(emb.view(-1,6) @ W1 + b1)   # (32, 100)\n",
        "logits = h @ W2 + b2   # (32, 27)\n",
        "loss = F.cross_entropy(logits, Yval)\n",
        "loss"
      ],
      "metadata": {
        "colab": {
          "base_uri": "https://localhost:8080/"
        },
        "id": "hlCD38XVN87k",
        "outputId": "04f6bba3-850b-479f-fe45-b85c2e24e805"
      },
      "execution_count": null,
      "outputs": [
        {
          "output_type": "execute_result",
          "data": {
            "text/plain": [
              "tensor(2.3745, grad_fn=<NllLossBackward0>)"
            ]
          },
          "metadata": {},
          "execution_count": 146
        }
      ]
    },
    {
      "cell_type": "markdown",
      "source": [
        "We can change those hyper parameters and can work with them"
      ],
      "metadata": {
        "id": "Dck0hXcrTCbP"
      }
    },
    {
      "cell_type": "code",
      "source": [
        "# visualize dimensions 0 and 1 of the embedding matrix C for all characters\n",
        "plt.figure(figsize=(8,8))\n",
        "plt.scatter(C[:,0].data, C[:,1].data, s=200)\n",
        "for i in range(C.shape[0]):\n",
        "    plt.text(C[i,0].item(), C[i,1].item(), itos[i], ha=\"center\", va=\"center\", color='white')\n",
        "plt.grid('minor')"
      ],
      "metadata": {
        "colab": {
          "base_uri": "https://localhost:8080/",
          "height": 676
        },
        "id": "_sk2fSv7TYux",
        "outputId": "1d4182e0-4638-41eb-9532-e5c42628c273"
      },
      "execution_count": null,
      "outputs": [
        {
          "output_type": "display_data",
          "data": {
            "text/plain": [
              "<Figure size 800x800 with 1 Axes>"
            ],
            "image/png": "[encoded data removed]"
          },
          "metadata": {}
        }
      ]
    },
    {
      "cell_type": "code",
      "source": [
        "# sample from the model\n",
        "g = torch.Generator().manual_seed(2147483647 + 10)\n",
        "\n",
        "for _ in range(20):\n",
        "\n",
        "    out = []\n",
        "    context = [0] * block_size # initialize with all ...\n",
        "    while True:\n",
        "      emb = C[torch.tensor([context])] # (1,block_size,d)\n",
        "      h = torch.tanh(emb.view(1, -1) @ W1 + b1)\n",
        "      logits = h @ W2 + b2\n",
        "      probs = F.softmax(logits, dim=1)\n",
        "      ix = torch.multinomial(probs, num_samples=1, generator=g).item()\n",
        "      context = context[1:] + [ix]\n",
        "      out.append(ix)\n",
        "      if ix == 0:\n",
        "        break\n",
        "\n",
        "    print(''.join(itos[i] for i in out))"
      ],
      "metadata": {
        "colab": {
          "base_uri": "https://localhost:8080/"
        },
        "id": "A4a8fSRfVIuo",
        "outputId": "2c479d84-8cfd-4da6-ec89-a1d4c31c5982"
      },
      "execution_count": null,
      "outputs": [
        {
          "output_type": "stream",
          "name": "stdout",
          "text": [
            "erra.\n",
            "amyan.\n",
            "reel.\n",
            "ndhayla.\n",
            "renvrarendrari.\n",
            "azeredieliigh.\n",
            "piren.\n",
            "edeisennanar.\n",
            "ellynoh.\n",
            "kalin.\n",
            "sadbergias.\n",
            "jest.\n",
            "juir.\n",
            "jelionn.\n",
            "puoriu.\n",
            "zen.\n",
            "dar.\n",
            "yadul.\n",
            "eli.\n",
            "kay.\n"
          ]
        }
      ]
    },
    {
      "cell_type": "markdown",
      "source": [
        "## **Optimise the above model here**"
      ],
      "metadata": {
        "id": "1yD7xV3HVwkV"
      }
    },
    {
      "cell_type": "code",
      "source": [
        "def build_dataset(words):\n",
        "  # build the dataset\n",
        "\n",
        "  block_size = 4 # context length: how many characters do we take to predict the next one\n",
        "  X, Y = [], []\n",
        "  for w in words:\n",
        "    context = [0] * block_size\n",
        "    for ch in w + '.':\n",
        "      ix = stoi[ch]\n",
        "      X.append(context)\n",
        "      Y.append(ix)\n",
        "      #print(''.join(itos[i] for i in context), '---->', itos[ix])\n",
        "      context = context[1:] + [ix] # crop and append\n",
        "\n",
        "  X = torch.tensor(X)\n",
        "  Y = torch.tensor(Y)\n",
        "  print(X.shape, Y.shape)\n",
        "  return X, Y"
      ],
      "metadata": {
        "id": "4bz4WG20WXMH"
      },
      "execution_count": null,
      "outputs": []
    },
    {
      "cell_type": "code",
      "source": [
        "g = torch.Generator().manual_seed(2147483647)\n",
        "C = torch.randn((27, 6), generator=g,requires_grad= True)  # Gonna use len6 embeddings\n",
        "\n",
        "# Weights and bias\n",
        "W1 = torch.randn((24, 200), generator=g, requires_grad= True)\n",
        "b1 = torch.randn(200, generator=g,requires_grad= True)\n",
        "\n",
        "W2 = torch.randn((200, 27), generator=g,requires_grad= True)\n",
        "b2 = torch.randn(27, generator=g,requires_grad= True)\n",
        "\n",
        "parameters = [C, W1, b1, W2, b2]"
      ],
      "metadata": {
        "id": "cJO8vNAIVzkO"
      },
      "execution_count": null,
      "outputs": []
    },
    {
      "cell_type": "code",
      "source": [
        "import random\n",
        "\n",
        "random.seed(35)\n",
        "random.shuffle(words)\n",
        "\n",
        "n1 = int(0.8*len(words))\n",
        "n2 = int(0.9*len(words))\n",
        "\n",
        "Xtr, Ytr = build_dataset(words[:n1])\n",
        "Xval, Yval = build_dataset(words[n1:n2])\n",
        "Xte, Yte = build_dataset(words[n2:])"
      ],
      "metadata": {
        "colab": {
          "base_uri": "https://localhost:8080/"
        },
        "id": "ES1U-j6KVzn4",
        "outputId": "91561108-d44c-4d45-a64d-b0e4d3ceb2ee"
      },
      "execution_count": null,
      "outputs": [
        {
          "output_type": "stream",
          "name": "stdout",
          "text": [
            "torch.Size([182602, 4]) torch.Size([182602])\n",
            "torch.Size([22808, 4]) torch.Size([22808])\n",
            "torch.Size([22736, 4]) torch.Size([22736])\n"
          ]
        }
      ]
    },
    {
      "cell_type": "code",
      "source": [
        "losses = []"
      ],
      "metadata": {
        "id": "aysc65-rXdvm"
      },
      "execution_count": null,
      "outputs": []
    },
    {
      "cell_type": "code",
      "source": [
        "lr = 0.12\n",
        "\n",
        "for epoch in range(200000):\n",
        "\n",
        "  if epoch > 100000:\n",
        "    lr = 0.01\n",
        "  if epoch > 180000:\n",
        "    lr = 0.001\n",
        "\n",
        "  # minibatch\n",
        "  ix = torch.randint(0, Xtr.shape[0], (32,))\n",
        "\n",
        "  # forward pass\n",
        "  emb = C[Xtr[ix]]\n",
        "  h = torch.tanh(emb.view(-1,24) @ W1 + b1)\n",
        "  logits = h @ W2 + b2\n",
        "  loss = F.cross_entropy(logits, Ytr[ix])\n",
        "\n",
        "  # backward pass\n",
        "  for p in parameters:\n",
        "    p.grad = None\n",
        "  loss.backward()\n",
        "\n",
        "  # update parameters\n",
        "  for p in parameters:\n",
        "    p.data += -lr * p.grad\n",
        "\n",
        "  losses.append(loss.item())"
      ],
      "metadata": {
        "id": "pefW7fzrVzqf"
      },
      "execution_count": null,
      "outputs": []
    },
    {
      "cell_type": "code",
      "source": [
        "plt.plot(range(400000), losses)\n",
        "plt.ylabel('Loss')\n",
        "plt.xlabel('epochs')\n",
        "plt.title('Minibatch descend stat(lr = 0.1, 0.01, 0.001)')"
      ],
      "metadata": {
        "colab": {
          "base_uri": "https://localhost:8080/",
          "height": 490
        },
        "id": "JSHMRtymVzs0",
        "outputId": "61c35beb-ff2b-4eb5-cb4a-d9fa0d2de50f"
      },
      "execution_count": null,
      "outputs": [
        {
          "output_type": "execute_result",
          "data": {
            "text/plain": [
              "Text(0.5, 1.0, 'Minibatch descend stat(lr = 0.1, 0.01, 0.001)')"
            ]
          },
          "metadata": {},
          "execution_count": 167
        },
        {
          "output_type": "display_data",
          "data": {
            "text/plain": [
              "<Figure size 640x480 with 1 Axes>"
            ],
            "image/png": "[encoded data removed]"
          },
          "metadata": {}
        }
      ]
    },
    {
      "cell_type": "code",
      "source": [
        "emb = C[Xtr]\n",
        "h = torch.tanh(emb.view(-1,24) @ W1 + b1)\n",
        "logits = h @ W2 + b2\n",
        "loss = F.cross_entropy(logits, Ytr)\n",
        "loss"
      ],
      "metadata": {
        "colab": {
          "base_uri": "https://localhost:8080/"
        },
        "id": "7J1wiPqtXt8x",
        "outputId": "ba84b423-6b06-46e8-8189-4a0f4d54714c"
      },
      "execution_count": null,
      "outputs": [
        {
          "output_type": "execute_result",
          "data": {
            "text/plain": [
              "tensor(2.0900, grad_fn=<NllLossBackward0>)"
            ]
          },
          "metadata": {},
          "execution_count": 168
        }
      ]
    },
    {
      "cell_type": "code",
      "source": [
        "emb = C[Xval]   # (32, 2, 3)\n",
        "h = torch.tanh(emb.view(-1,24) @ W1 + b1)   # (32, 100)\n",
        "logits = h @ W2 + b2   # (32, 27)\n",
        "loss = F.cross_entropy(logits, Yval)\n",
        "loss"
      ],
      "metadata": {
        "colab": {
          "base_uri": "https://localhost:8080/"
        },
        "id": "_6Eg0Sn7YBUZ",
        "outputId": "21dd589e-31b9-4596-e7fe-ca1f02c49c22"
      },
      "execution_count": null,
      "outputs": [
        {
          "output_type": "execute_result",
          "data": {
            "text/plain": [
              "tensor(2.1603, grad_fn=<NllLossBackward0>)"
            ]
          },
          "metadata": {},
          "execution_count": 169
        }
      ]
    },
    {
      "cell_type": "code",
      "source": [
        "# visualize dimensions 0 and 1 of the embedding matrix C for all characters\n",
        "plt.figure(figsize=(8,8))\n",
        "plt.scatter(C[:,0].data, C[:,1].data, s=200)\n",
        "for i in range(C.shape[0]):\n",
        "    plt.text(C[i,0].item(), C[i,1].item(), itos[i], ha=\"center\", va=\"center\", color='white')\n",
        "plt.grid('minor')"
      ],
      "metadata": {
        "colab": {
          "base_uri": "https://localhost:8080/",
          "height": 676
        },
        "id": "2XMH3lnuYG-F",
        "outputId": "eb3d4eb1-037b-4891-d36f-1304e00c7a19"
      },
      "execution_count": null,
      "outputs": [
        {
          "output_type": "display_data",
          "data": {
            "text/plain": [
              "<Figure size 800x800 with 1 Axes>"
            ],
            "image/png": "[encoded data removed]"
          },
          "metadata": {}
        }
      ]
    },
    {
      "cell_type": "code",
      "source": [
        "block_size = 4"
      ],
      "metadata": {
        "id": "BKkJvnBDYdqK"
      },
      "execution_count": null,
      "outputs": []
    },
    {
      "cell_type": "code",
      "source": [
        "# sample from the model\n",
        "g = torch.Generator().manual_seed(2147483647 + 10)\n",
        "\n",
        "for _ in range(20):\n",
        "\n",
        "    out = []\n",
        "    context = [0] * block_size # initialize with all ...\n",
        "    while True:\n",
        "      emb = C[torch.tensor([context])] # (1,block_size,d)\n",
        "      h = torch.tanh(emb.view(1, -1) @ W1 + b1)\n",
        "      logits = h @ W2 + b2\n",
        "      probs = F.softmax(logits, dim=1)\n",
        "      ix = torch.multinomial(probs, num_samples=1, generator=g).item()\n",
        "      context = context[1:] + [ix]\n",
        "      out.append(ix)\n",
        "      if ix == 0:\n",
        "        break\n",
        "\n",
        "    print(''.join(itos[i] for i in out))"
      ],
      "metadata": {
        "colab": {
          "base_uri": "https://localhost:8080/"
        },
        "id": "7pe1-mFxYMUT",
        "outputId": "014a0fa4-50ec-43cf-a98d-b78b1c97584a"
      },
      "execution_count": null,
      "outputs": [
        {
          "output_type": "stream",
          "name": "stdout",
          "text": [
            "mora.\n",
            "mayanna.\n",
            "elme.\n",
            "hayla.\n",
            "revyan.\n",
            "endra.\n",
            "gradeer.\n",
            "melii.\n",
            "shilopa.\n",
            "edelisan.\n",
            "nara.\n",
            "myzios.\n",
            "kalin.\n",
            "sheber.\n",
            "shirie.\n",
            "trin.\n",
            "renelionn.\n",
            "puca.\n",
            "ubabecda.\n",
            "kyleug.\n"
          ]
        }
      ]
    },
    {
      "cell_type": "markdown",
      "source": [],
      "metadata": {
        "id": "1721-4lEWtNq"
      }
    }
  ]
}
