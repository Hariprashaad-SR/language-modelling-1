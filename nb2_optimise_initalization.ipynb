{
  "nbformat": 4,
  "nbformat_minor": 0,
  "metadata": {
    "colab": {
      "provenance": []
    },
    "kernelspec": {
      "name": "python3",
      "display_name": "Python 3"
    },
    "language_info": {
      "name": "python"
    }
  },
  "cells": [
    {
      "cell_type": "markdown",
      "source": [
        "## **Optimising the initial random weights for params**"
      ],
      "metadata": {
        "id": "2Z7FEBAra1Vv"
      }
    },
    {
      "cell_type": "code",
      "execution_count": 1,
      "metadata": {
        "id": "Z6zmgTOvZaeA"
      },
      "outputs": [],
      "source": [
        "import torch\n",
        "import torch.nn.functional as F\n",
        "import matplotlib.pyplot as plt\n",
        "%matplotlib inline"
      ]
    },
    {
      "cell_type": "code",
      "source": [
        " words = open('names.txt', 'r').read().splitlines()\n",
        " words[:10]"
      ],
      "metadata": {
        "colab": {
          "base_uri": "https://localhost:8080/"
        },
        "id": "A-JSlK9Ub1uz",
        "outputId": "9f8768aa-37ef-4566-9845-fa66a7c36908"
      },
      "execution_count": 2,
      "outputs": [
        {
          "output_type": "execute_result",
          "data": {
            "text/plain": [
              "['emma',\n",
              " 'olivia',\n",
              " 'ava',\n",
              " 'isabella',\n",
              " 'sophia',\n",
              " 'charlotte',\n",
              " 'mia',\n",
              " 'amelia',\n",
              " 'harper',\n",
              " 'evelyn']"
            ]
          },
          "metadata": {},
          "execution_count": 2
        }
      ]
    },
    {
      "cell_type": "code",
      "source": [
        "len(words)"
      ],
      "metadata": {
        "colab": {
          "base_uri": "https://localhost:8080/"
        },
        "id": "8W3GZXSjb-ot",
        "outputId": "8f854e9d-6d30-43a7-b8bb-dd80cb78d5a5"
      },
      "execution_count": 3,
      "outputs": [
        {
          "output_type": "execute_result",
          "data": {
            "text/plain": [
              "32033"
            ]
          },
          "metadata": {},
          "execution_count": 3
        }
      ]
    },
    {
      "cell_type": "code",
      "source": [
        "chars = sorted(list(set(''.join(words))))\n",
        "stoi = {s:i+1 for i,s in enumerate(chars)}\n",
        "stoi['.'] = 0\n",
        "itos = {i:s for s,i in stoi.items()}\n",
        "print(itos)"
      ],
      "metadata": {
        "colab": {
          "base_uri": "https://localhost:8080/"
        },
        "id": "iTGCbfUbb-rD",
        "outputId": "2c7ff203-ef30-4192-b9db-cb0b43cbb4ef"
      },
      "execution_count": 4,
      "outputs": [
        {
          "output_type": "stream",
          "name": "stdout",
          "text": [
            "{1: 'a', 2: 'b', 3: 'c', 4: 'd', 5: 'e', 6: 'f', 7: 'g', 8: 'h', 9: 'i', 10: 'j', 11: 'k', 12: 'l', 13: 'm', 14: 'n', 15: 'o', 16: 'p', 17: 'q', 18: 'r', 19: 's', 20: 't', 21: 'u', 22: 'v', 23: 'w', 24: 'x', 25: 'y', 26: 'z', 0: '.'}\n"
          ]
        }
      ]
    },
    {
      "cell_type": "code",
      "source": [
        "vocab_size = len(itos)\n",
        "vocab_size"
      ],
      "metadata": {
        "colab": {
          "base_uri": "https://localhost:8080/"
        },
        "id": "soOpt4BNctIj",
        "outputId": "a79939d0-e038-4568-f79d-face14f60518"
      },
      "execution_count": 5,
      "outputs": [
        {
          "output_type": "execute_result",
          "data": {
            "text/plain": [
              "27"
            ]
          },
          "metadata": {},
          "execution_count": 5
        }
      ]
    },
    {
      "cell_type": "code",
      "source": [
        "block_size = 3 # context length: how many characters do we take to predict the next one\n",
        "\n",
        "def build_dataset(words):\n",
        "  # build the dataset\n",
        "\n",
        "  X, Y = [], []\n",
        "  for w in words:\n",
        "    context = [0] * block_size\n",
        "    for ch in w + '.':\n",
        "      ix = stoi[ch]\n",
        "      X.append(context)\n",
        "      Y.append(ix)\n",
        "      #print(''.join(itos[i] for i in context), '---->', itos[ix])\n",
        "      context = context[1:] + [ix] # crop and append\n",
        "\n",
        "  X = torch.tensor(X)\n",
        "  Y = torch.tensor(Y)\n",
        "  print(X.shape, Y.shape)\n",
        "  return X, Y"
      ],
      "metadata": {
        "id": "F7FUPzr3b-tZ"
      },
      "execution_count": 6,
      "outputs": []
    },
    {
      "cell_type": "code",
      "source": [
        "import random\n",
        "\n",
        "random.seed(42)\n",
        "random.shuffle(words)\n",
        "\n",
        "n1 = int(0.8*len(words))\n",
        "n2 = int(0.9*len(words))\n",
        "\n",
        "Xtr, Ytr = build_dataset(words[:n1])\n",
        "Xval, Yval = build_dataset(words[n1:n2])\n",
        "Xte, Yte = build_dataset(words[n2:])"
      ],
      "metadata": {
        "colab": {
          "base_uri": "https://localhost:8080/"
        },
        "id": "7wHCN12xcM4d",
        "outputId": "a3cda299-7d44-4fe1-8207-fc5081ebd6c1"
      },
      "execution_count": 7,
      "outputs": [
        {
          "output_type": "stream",
          "name": "stdout",
          "text": [
            "torch.Size([182625, 3]) torch.Size([182625])\n",
            "torch.Size([22655, 3]) torch.Size([22655])\n",
            "torch.Size([22866, 3]) torch.Size([22866])\n"
          ]
        }
      ]
    },
    {
      "cell_type": "code",
      "source": [
        "n_emb = 10\n",
        "n_hidden = 200\n",
        "\n",
        "g = torch.Generator().manual_seed(2147483647)\n",
        "C = torch.randn((vocab_size, n_emb), generator=g,requires_grad= True)\n",
        "\n",
        "# Weights and bias\n",
        "W1 = torch.randn((n_emb * block_size, n_hidden), generator=g, requires_grad= True)\n",
        "b1 = torch.randn(n_hidden, generator=g,requires_grad= True)\n",
        "\n",
        "W2 = torch.randn((n_hidden, vocab_size), generator=g,requires_grad= True)\n",
        "b2 = torch.randn(vocab_size, generator=g,requires_grad= True)\n",
        "\n",
        "parameters = [C, W1, b1, W2, b2]"
      ],
      "metadata": {
        "id": "iieezO8eb-vO"
      },
      "execution_count": 8,
      "outputs": []
    },
    {
      "cell_type": "code",
      "source": [
        "lr = 0.12\n",
        "epochs = 70000\n",
        "batch_size = 32\n",
        "losses = []\n",
        "\n",
        "for epoch in range(epochs + 1):\n",
        "\n",
        "  # minibatch\n",
        "  ix = torch.randint(0, Xtr.shape[0], (batch_size,))\n",
        "\n",
        "  # forward pass\n",
        "  emb = C[Xtr[ix]]   # (batch_size, 2, 3)\n",
        "  embcat = emb.view(emb.shape[0], -1)   # (batch_size, 6)\n",
        "  hpreact = embcat @ W1 + b1  # (batch_size, n_hidden)\n",
        "  h = torch.tanh(hpreact)\n",
        "  logits = h @ W2 + b2   # (batch_size, vocab_size)\n",
        "  loss = F.cross_entropy(logits, Ytr[ix])\n",
        "\n",
        "  # backward pass\n",
        "  for p in parameters:\n",
        "    p.grad = None\n",
        "  loss.backward()\n",
        "\n",
        "  # update parameters\n",
        "  for p in parameters:\n",
        "    p.data += -lr * p.grad\n",
        "\n",
        "  if epoch % 10000 == 0:\n",
        "    print(f'{epoch} / {epochs}: {loss.item() : .4f}')\n",
        "  losses.append(loss.item())"
      ],
      "metadata": {
        "colab": {
          "base_uri": "https://localhost:8080/"
        },
        "id": "zf-2w4qRcznL",
        "outputId": "d9659fee-784f-402d-cd87-6745c6b97386"
      },
      "execution_count": 9,
      "outputs": [
        {
          "output_type": "stream",
          "name": "stdout",
          "text": [
            "0 / 70000:  27.5681\n",
            "10000 / 70000:  2.4071\n",
            "20000 / 70000:  2.3620\n",
            "30000 / 70000:  2.4015\n",
            "40000 / 70000:  2.2958\n",
            "50000 / 70000:  2.1923\n",
            "60000 / 70000:  2.6187\n",
            "70000 / 70000:  2.6092\n"
          ]
        }
      ]
    },
    {
      "cell_type": "code",
      "source": [
        "plt.plot(range(epochs + 1), losses)"
      ],
      "metadata": {
        "colab": {
          "base_uri": "https://localhost:8080/",
          "height": 448
        },
        "id": "OZCGKrFFePpi",
        "outputId": "26ab258a-2f6f-40e8-e09b-c7d10fce0f68"
      },
      "execution_count": 10,
      "outputs": [
        {
          "output_type": "execute_result",
          "data": {
            "text/plain": [
              "[<matplotlib.lines.Line2D at 0x7a5103aece20>]"
            ]
          },
          "metadata": {},
          "execution_count": 10
        },
        {
          "output_type": "display_data",
          "data": {
            "text/plain": [
              "<Figure size 640x480 with 1 Axes>"
            ],
            "image/png": "[encoded data removed]"
          },
          "metadata": {}
        }
      ]
    },
    {
      "cell_type": "code",
      "source": [
        "@torch.no_grad()\n",
        "def split_loss(split):\n",
        "  x, y = {\n",
        "      'train': (Xtr, Ytr),\n",
        "      'val': (Xval, Yval),\n",
        "      'test': (Xte, Yte),\n",
        "  }[split]\n",
        "  emb = C[x] # (N, block_size, n_embed)\n",
        "  embcat = emb.view(emb.shape[0], -1)\n",
        "  h = torch.tanh(embcat @ W1 + b1)\n",
        "  logits = h @ W2 + b2\n",
        "  loss = F.cross_entropy(logits, y)\n",
        "  print(split, loss.item())\n",
        "\n",
        "split_loss('train')\n",
        "split_loss('val')"
      ],
      "metadata": {
        "colab": {
          "base_uri": "https://localhost:8080/"
        },
        "id": "tFEJ6Bu2eYIx",
        "outputId": "f6b45643-72e4-4369-d496-70e0772d0a98"
      },
      "execution_count": 11,
      "outputs": [
        {
          "output_type": "stream",
          "name": "stdout",
          "text": [
            "train 2.3167874813079834\n",
            "val 2.355640172958374\n"
          ]
        }
      ]
    },
    {
      "cell_type": "code",
      "source": [
        "# sample from the model\n",
        "g = torch.Generator().manual_seed(2147483647 + 10)\n",
        "\n",
        "for _ in range(20):\n",
        "\n",
        "    out = []\n",
        "    context = [0] * block_size # initialize with all ...\n",
        "    while True:\n",
        "      emb = C[torch.tensor([context])] # (1,block_size,d)\n",
        "      h = torch.tanh(emb.view(1, -1) @ W1 + b1)\n",
        "      logits = h @ W2 + b2\n",
        "      probs = F.softmax(logits, dim=1)\n",
        "      ix = torch.multinomial(probs, num_samples=1, generator=g).item()\n",
        "      context = context[1:] + [ix]\n",
        "      out.append(ix)\n",
        "      if ix == 0:\n",
        "        break\n",
        "\n",
        "    print(''.join(itos[i] for i in out))"
      ],
      "metadata": {
        "colab": {
          "base_uri": "https://localhost:8080/"
        },
        "id": "DiWNUuRIfTyX",
        "outputId": "0d946a1a-0ee7-4a75-8343-f0aa82c25fca"
      },
      "execution_count": 12,
      "outputs": [
        {
          "output_type": "stream",
          "name": "stdout",
          "text": [
            "eriah.\n",
            "myan.\n",
            "heelen.\n",
            "heyah.\n",
            "reverstendraez.\n",
            "adeeyanelie.\n",
            "elizoed.\n",
            "eden.\n",
            "edianareelynn.\n",
            "hokia.\n",
            "neshirvoriaganee.\n",
            "kinie.\n",
            "jelienneeusanuezen.\n",
            "der.\n",
            "yudaezeki.\n",
            "lucheysen.\n",
            "deihan.\n",
            "calyansun.\n",
            "zakelleuna.\n",
            "jary.\n"
          ]
        }
      ]
    },
    {
      "cell_type": "markdown",
      "source": [
        "### **Optimising the above model**"
      ],
      "metadata": {
        "id": "bQvbwv57f_ab"
      }
    },
    {
      "cell_type": "code",
      "source": [],
      "metadata": {
        "id": "Y4W3rZb9gBMt"
      },
      "execution_count": 12,
      "outputs": []
    },
    {
      "cell_type": "markdown",
      "source": [
        "Prob - 1 : While training, the initial loss was way higher and was reducing rapidly as we get the random numbers from a uniform distribution\n",
        "\n",
        "For a proper initialisation, the logits must be close to zero rather than extreme values"
      ],
      "metadata": {
        "id": "NeZ8Ej9IgBiW"
      }
    },
    {
      "cell_type": "code",
      "source": [
        "n_emb = 10\n",
        "n_hidden = 200\n",
        "\n",
        "g = torch.Generator().manual_seed(2147483647)\n",
        "C = torch.randn((vocab_size, n_emb), generator=g)\n",
        "\n",
        "# Weights and bias\n",
        "W1 = torch.randn((n_emb * block_size, n_hidden), generator=g)\n",
        "b1 = torch.randn(n_hidden, generator=g)\n",
        "\n",
        "W2 = torch.randn((n_hidden, vocab_size), generator=g) * 0.01   # Non-zero\n",
        "b2 = torch.randn(vocab_size, generator=g) * 0  # Since (+)\n",
        "\n",
        "parameters = [C, W1, b1, W2, b2]\n",
        "\n",
        "for params in parameters:\n",
        "  params.requires_grad = True"
      ],
      "metadata": {
        "id": "FOm0K8PuhJT5"
      },
      "execution_count": 13,
      "outputs": []
    },
    {
      "cell_type": "code",
      "source": [
        "lr = 0.12\n",
        "epochs = 70000\n",
        "batch_size = 32\n",
        "losses = []\n",
        "\n",
        "for epoch in range(epochs + 1):\n",
        "\n",
        "  # minibatch\n",
        "  ix = torch.randint(0, Xtr.shape[0], (batch_size,))\n",
        "\n",
        "  # forward pass\n",
        "  emb = C[Xtr[ix]]   # (batch_size, 2, 3)\n",
        "  embcat = emb.view(emb.shape[0], -1)   # (batch_size, 6)\n",
        "  hpreact = embcat @ W1 + b1  # (batch_size, n_hidden)\n",
        "  h = torch.tanh(hpreact)\n",
        "  logits = h @ W2 + b2   # (batch_size, vocab_size)\n",
        "  loss = F.cross_entropy(logits, Ytr[ix])\n",
        "\n",
        "  # backward pass\n",
        "  for p in parameters:\n",
        "    p.grad = None\n",
        "  loss.backward()\n",
        "\n",
        "  # update parameters\n",
        "  for p in parameters:\n",
        "    p.data += -lr * p.grad\n",
        "\n",
        "  if epoch % 10000 == 0:\n",
        "    print(f'{epoch} / {epochs}: {loss.item() : .4f}')\n",
        "  losses.append(loss.item())"
      ],
      "metadata": {
        "colab": {
          "base_uri": "https://localhost:8080/"
        },
        "id": "6IxUEiE_hrqG",
        "outputId": "2b980795-67bd-41d2-8f07-d91cdcd22e39"
      },
      "execution_count": 14,
      "outputs": [
        {
          "output_type": "stream",
          "name": "stdout",
          "text": [
            "0 / 70000:  3.2896\n",
            "10000 / 70000:  2.3446\n",
            "20000 / 70000:  2.0817\n",
            "30000 / 70000:  2.6903\n",
            "40000 / 70000:  2.2476\n",
            "50000 / 70000:  2.5450\n",
            "60000 / 70000:  1.9365\n",
            "70000 / 70000:  2.6079\n"
          ]
        }
      ]
    },
    {
      "cell_type": "code",
      "source": [
        "plt.plot(range(epochs + 1), losses)"
      ],
      "metadata": {
        "colab": {
          "base_uri": "https://localhost:8080/",
          "height": 448
        },
        "id": "4-2Hr3dQilk9",
        "outputId": "43011b48-e7a2-4d4c-b146-884a69c8f1b4"
      },
      "execution_count": 15,
      "outputs": [
        {
          "output_type": "execute_result",
          "data": {
            "text/plain": [
              "[<matplotlib.lines.Line2D at 0x7a51039e3e80>]"
            ]
          },
          "metadata": {},
          "execution_count": 15
        },
        {
          "output_type": "display_data",
          "data": {
            "text/plain": [
              "<Figure size 640x480 with 1 Axes>"
            ],
            "image/png": "[encoded data removed]"
          },
          "metadata": {}
        }
      ]
    },
    {
      "cell_type": "code",
      "source": [
        "@torch.no_grad()\n",
        "def split_loss(split):\n",
        "  x, y = {\n",
        "      'train': (Xtr, Ytr),\n",
        "      'val': (Xval, Yval),\n",
        "      'test': (Xte, Yte),\n",
        "  }[split]\n",
        "  emb = C[x] # (N, block_size, n_embed)\n",
        "  embcat = emb.view(emb.shape[0], -1)\n",
        "  h = torch.tanh(embcat @ W1 + b1)\n",
        "  logits = h @ W2 + b2\n",
        "  loss = F.cross_entropy(logits, y)\n",
        "  print(split, loss.item())\n",
        "\n",
        "split_loss('train')\n",
        "split_loss('val')"
      ],
      "metadata": {
        "colab": {
          "base_uri": "https://localhost:8080/"
        },
        "id": "VCWi_Tkbizcv",
        "outputId": "32afbc2f-3925-41f1-c7e9-88d1d9a75890"
      },
      "execution_count": 16,
      "outputs": [
        {
          "output_type": "stream",
          "name": "stdout",
          "text": [
            "train 2.2070670127868652\n",
            "val 2.2556307315826416\n"
          ]
        }
      ]
    },
    {
      "cell_type": "code",
      "source": [],
      "metadata": {
        "id": "lxNDJOsnkKwG"
      },
      "execution_count": 16,
      "outputs": []
    },
    {
      "cell_type": "markdown",
      "source": [
        "Prob - 2\n",
        "\n",
        "Distribution of tanh heavily distributed at -1.00 and +1.00 which makes the grad = 0 as the grad through the tanh() is (1 - (t**2)) * X which becomes 0 if t == [-1,1]\n",
        "\n",
        "This is also true in the case of sigmoid, tanh, ReLu, and so on\n",
        "\n",
        "We could use leaky ReLu, ELU or Maxouts"
      ],
      "metadata": {
        "id": "NXPL9UpOkMwv"
      }
    },
    {
      "cell_type": "code",
      "source": [
        "plt.hist(h.view(-1,).tolist(), bins = 50);"
      ],
      "metadata": {
        "colab": {
          "base_uri": "https://localhost:8080/",
          "height": 430
        },
        "id": "uZR48hJ4kbWI",
        "outputId": "de8c67f4-8d87-43c1-f805-d9b008483cdc"
      },
      "execution_count": 17,
      "outputs": [
        {
          "output_type": "display_data",
          "data": {
            "text/plain": [
              "<Figure size 640x480 with 1 Axes>"
            ],
            "image/png": "[encoded data removed]"
          },
          "metadata": {}
        }
      ]
    },
    {
      "cell_type": "code",
      "source": [
        "plt.hist(hpreact.view(-1,).tolist(), bins = 50);"
      ],
      "metadata": {
        "colab": {
          "base_uri": "https://localhost:8080/",
          "height": 430
        },
        "id": "UrTn-MNkHOgI",
        "outputId": "be50026c-376e-48b7-afa6-6e57acfd4723"
      },
      "execution_count": 18,
      "outputs": [
        {
          "output_type": "display_data",
          "data": {
            "text/plain": [
              "<Figure size 640x480 with 1 Axes>"
            ],
            "image/png": "[encoded data removed]"
          },
          "metadata": {}
        }
      ]
    },
    {
      "cell_type": "code",
      "source": [
        "plt.figure(figsize=(20,10))\n",
        "plt.imshow(h.abs() > 0.99, cmap = 'gray', interpolation='nearest')\n",
        "\n",
        "# white regions represents dead neurons"
      ],
      "metadata": {
        "colab": {
          "base_uri": "https://localhost:8080/",
          "height": 221
        },
        "id": "qmbor9ZnI8Pl",
        "outputId": "3bde36fc-53f5-4e41-b609-9bb5be1abd07"
      },
      "execution_count": 19,
      "outputs": [
        {
          "output_type": "execute_result",
          "data": {
            "text/plain": [
              "<matplotlib.image.AxesImage at 0x7a5104531e70>"
            ]
          },
          "metadata": {},
          "execution_count": 19
        },
        {
          "output_type": "display_data",
          "data": {
            "text/plain": [
              "<Figure size 2000x1000 with 1 Axes>"
            ],
            "image/png": "[encoded data removed]"
          },
          "metadata": {}
        }
      ]
    },
    {
      "cell_type": "code",
      "source": [
        "n_emb = 10\n",
        "n_hidden = 200\n",
        "\n",
        "g = torch.Generator().manual_seed(2147483647)\n",
        "C = torch.randn((vocab_size, n_emb), generator=g)\n",
        "\n",
        "# Weights and bias\n",
        "W1 = torch.randn((n_emb * block_size, n_hidden), generator=g) * 0.2\n",
        "b1 = torch.randn(n_hidden, generator=g) * 0.01\n",
        "\n",
        "W2 = torch.randn((n_hidden, vocab_size), generator=g) * 0.01            # Non-zero\n",
        "b2 = torch.randn(vocab_size, generator=g) * 0                           # Since (+)\n",
        "\n",
        "parameters = [C, W1, b1, W2, b2]\n",
        "\n",
        "for params in parameters:\n",
        "  params.requires_grad = True"
      ],
      "metadata": {
        "id": "hoptVfbcKFlB"
      },
      "execution_count": 20,
      "outputs": []
    },
    {
      "cell_type": "code",
      "source": [
        "  # forward pass\n",
        "  emb = C[Xtr[ix]]   # (batch_size, 2, 3)\n",
        "  embcat = emb.view(emb.shape[0], -1)   # (batch_size, 6)\n",
        "  hpreact = embcat @ W1 + b1  # (batch_size, n_hidden)\n",
        "  h = torch.tanh(hpreact)\n",
        "  logits = h @ W2 + b2   # (batch_size, vocab_size)\n",
        "  loss = F.cross_entropy(logits, Ytr[ix])"
      ],
      "metadata": {
        "id": "taYf-ZR3M3AJ"
      },
      "execution_count": 21,
      "outputs": []
    },
    {
      "cell_type": "code",
      "source": [
        "plt.hist(h.view(-1,).tolist(), bins = 50);"
      ],
      "metadata": {
        "colab": {
          "base_uri": "https://localhost:8080/",
          "height": 430
        },
        "id": "80uG2sVJMmGD",
        "outputId": "b5b2a567-b04b-4091-d829-e34ff6e5ad35"
      },
      "execution_count": 22,
      "outputs": [
        {
          "output_type": "display_data",
          "data": {
            "text/plain": [
              "<Figure size 640x480 with 1 Axes>"
            ],
            "image/png": "[encoded data removed]"
          },
          "metadata": {}
        }
      ]
    },
    {
      "cell_type": "code",
      "source": [
        "plt.hist(hpreact.view(-1,).tolist(), bins = 50);"
      ],
      "metadata": {
        "colab": {
          "base_uri": "https://localhost:8080/",
          "height": 430
        },
        "id": "xp3HI9iiM4ze",
        "outputId": "2f826b34-4fd5-4906-ca24-f4946dcf9c76"
      },
      "execution_count": 23,
      "outputs": [
        {
          "output_type": "display_data",
          "data": {
            "text/plain": [
              "<Figure size 640x480 with 1 Axes>"
            ],
            "image/png": "[encoded data removed]"
          },
          "metadata": {}
        }
      ]
    },
    {
      "cell_type": "code",
      "source": [
        "plt.figure(figsize=(20,10))\n",
        "plt.imshow(h.abs() > 0.99, cmap = 'gray', interpolation='nearest')\n",
        "\n",
        "# white regions represents dead neurons"
      ],
      "metadata": {
        "colab": {
          "base_uri": "https://localhost:8080/",
          "height": 221
        },
        "id": "doNQM9IIM9bR",
        "outputId": "f25a23d7-3dc2-423a-ea25-0ab2a09d38b9"
      },
      "execution_count": 24,
      "outputs": [
        {
          "output_type": "execute_result",
          "data": {
            "text/plain": [
              "<matplotlib.image.AxesImage at 0x7a5104246140>"
            ]
          },
          "metadata": {},
          "execution_count": 24
        },
        {
          "output_type": "display_data",
          "data": {
            "text/plain": [
              "<Figure size 2000x1000 with 1 Axes>"
            ],
            "image/png": "[encoded data removed]"
          },
          "metadata": {}
        }
      ]
    },
    {
      "cell_type": "code",
      "source": [
        "lr = 0.12\n",
        "epochs = 70000\n",
        "batch_size = 32\n",
        "losses = []\n",
        "\n",
        "for epoch in range(epochs + 1):\n",
        "\n",
        "  # minibatch\n",
        "  ix = torch.randint(0, Xtr.shape[0], (batch_size,))\n",
        "\n",
        "  # forward pass\n",
        "  emb = C[Xtr[ix]]   # (batch_size, 2, 3)\n",
        "  embcat = emb.view(emb.shape[0], -1)   # (batch_size, 6)\n",
        "  hpreact = embcat @ W1 + b1  # (batch_size, n_hidden)\n",
        "  h = torch.tanh(hpreact)\n",
        "  logits = h @ W2 + b2   # (batch_size, vocab_size)\n",
        "  loss = F.cross_entropy(logits, Ytr[ix])\n",
        "\n",
        "  # backward pass\n",
        "  for p in parameters:\n",
        "    p.grad = None\n",
        "  loss.backward()\n",
        "\n",
        "  # update parameters\n",
        "  for p in parameters:\n",
        "    p.data += -lr * p.grad\n",
        "\n",
        "  if epoch % 10000 == 0:\n",
        "    print(f'{epoch} / {epochs}: {loss.item() : .4f}')\n",
        "  losses.append(loss.item())"
      ],
      "metadata": {
        "colab": {
          "base_uri": "https://localhost:8080/"
        },
        "id": "d0g-HqNZNLLO",
        "outputId": "db7a7f7e-54b8-4cc8-e0cc-448585c20ffe"
      },
      "execution_count": 25,
      "outputs": [
        {
          "output_type": "stream",
          "name": "stdout",
          "text": [
            "0 / 70000:  3.2966\n",
            "10000 / 70000:  2.1327\n",
            "20000 / 70000:  2.4966\n",
            "30000 / 70000:  2.2114\n",
            "40000 / 70000:  2.0867\n",
            "50000 / 70000:  2.0821\n",
            "60000 / 70000:  2.2791\n",
            "70000 / 70000:  2.0577\n"
          ]
        }
      ]
    },
    {
      "cell_type": "code",
      "source": [
        "@torch.no_grad()\n",
        "def split_loss(split):\n",
        "  x, y = {\n",
        "      'train': (Xtr, Ytr),\n",
        "      'val': (Xval, Yval),\n",
        "      'test': (Xte, Yte),\n",
        "  }[split]\n",
        "  emb = C[x] # (N, block_size, n_embed)\n",
        "  embcat = emb.view(emb.shape[0], -1)\n",
        "  h = torch.tanh(embcat @ W1 + b1)\n",
        "  logits = h @ W2 + b2\n",
        "  loss = F.cross_entropy(logits, y)\n",
        "  print(split, loss.item())\n",
        "\n",
        "split_loss('train')\n",
        "split_loss('val')"
      ],
      "metadata": {
        "colab": {
          "base_uri": "https://localhost:8080/"
        },
        "id": "oXkAS9u3NLUF",
        "outputId": "994755ff-152b-4152-fba7-5acc456b662f"
      },
      "execution_count": 26,
      "outputs": [
        {
          "output_type": "stream",
          "name": "stdout",
          "text": [
            "train 2.1642606258392334\n",
            "val 2.2158749103546143\n"
          ]
        }
      ]
    },
    {
      "cell_type": "markdown",
      "source": [
        "### **RESULT :**\n",
        "\n",
        "**Original :**\n",
        "- train 2.319\n",
        "- val 2.378\n",
        "\n",
        "**After setting up a proper initialisation :**\n",
        "- train 2.207\n",
        "- val 2.274\n",
        "\n",
        "**After solving tanh decomposition :**\n",
        "- train 2.164\n",
        "- val 2.225\n"
      ],
      "metadata": {
        "id": "M5iCiw6yNmij"
      }
    },
    {
      "cell_type": "markdown",
      "source": [
        "**Principled way**\n",
        "\n",
        "How does the distribution change with different normalising constant\n",
        "\n",
        "We need a same distribution for both x and y (i.e) same mean and standard deviation\n",
        "\n",
        "**(i) Multiplying w with 1**"
      ],
      "metadata": {
        "id": "69-N-h9mP3Gk"
      }
    },
    {
      "cell_type": "code",
      "source": [
        "x = torch.randn((1000, 30))\n",
        "w = torch.randn((30, 200))\n",
        "y = x @ w\n",
        "print(x.mean(), x.std())\n",
        "print(y.mean(), y.std())\n",
        "plt.figure(figsize=(20,5))\n",
        "plt.subplot(1,2,1)\n",
        "plt.hist(x.view(-1,).tolist(), bins = 50);\n",
        "plt.subplot(1,2,2)\n",
        "plt.hist(y.view(-1,).tolist(), bins = 50);"
      ],
      "metadata": {
        "colab": {
          "base_uri": "https://localhost:8080/",
          "height": 322
        },
        "id": "HytTaXdsOO34",
        "outputId": "a7afdec8-6661-42c7-8933-872a0fb52318"
      },
      "execution_count": 27,
      "outputs": [
        {
          "output_type": "stream",
          "name": "stdout",
          "text": [
            "tensor(-0.0001) tensor(1.0008)\n",
            "tensor(0.0129) tensor(5.5542)\n"
          ]
        },
        {
          "output_type": "display_data",
          "data": {
            "text/plain": [
              "<Figure size 2000x500 with 2 Axes>"
            ],
            "image/png": "[encoded data removed]"
          },
          "metadata": {}
        }
      ]
    },
    {
      "cell_type": "markdown",
      "source": [
        "**(ii) Multiplying w with 5**\n",
        "\n",
        "std.dev increases"
      ],
      "metadata": {
        "id": "1rHYa4PjQHDZ"
      }
    },
    {
      "cell_type": "code",
      "source": [
        "x = torch.randn((1000, 30))\n",
        "w = torch.randn((30, 200)) * 5\n",
        "y = x @ w\n",
        "print(x.mean(), x.std())\n",
        "print(y.mean(), y.std())\n",
        "plt.figure(figsize=(20,5))\n",
        "plt.subplot(1,2,1)\n",
        "plt.hist(x.view(-1,).tolist(), bins = 50);\n",
        "plt.subplot(1,2,2)\n",
        "plt.hist(y.view(-1,).tolist(), bins = 50);"
      ],
      "metadata": {
        "colab": {
          "base_uri": "https://localhost:8080/",
          "height": 324
        },
        "id": "-o53b7bvPvPu",
        "outputId": "ea73c109-7861-46bf-ac76-3a16e2d14cd9"
      },
      "execution_count": 28,
      "outputs": [
        {
          "output_type": "stream",
          "name": "stdout",
          "text": [
            "tensor(-0.0075) tensor(0.9947)\n",
            "tensor(0.0539) tensor(27.4999)\n"
          ]
        },
        {
          "output_type": "display_data",
          "data": {
            "text/plain": [
              "<Figure size 2000x500 with 2 Axes>"
            ],
            "image/png": "[encoded data removed]"
          },
          "metadata": {}
        }
      ]
    },
    {
      "cell_type": "markdown",
      "source": [
        "**(iii) Multiplying w with 0.2**\n",
        "\n",
        "std.dev decreases"
      ],
      "metadata": {
        "id": "5q3kt1gqQLlh"
      }
    },
    {
      "cell_type": "code",
      "source": [
        "x = torch.randn((1000, 30))\n",
        "w = torch.randn((30, 200)) * 0.01\n",
        "y = x @ w\n",
        "print(x.mean(), x.std())\n",
        "print(y.mean(), y.std())\n",
        "plt.figure(figsize=(20,5))\n",
        "plt.subplot(1,2,1)\n",
        "plt.hist(x.view(-1,).tolist(), bins = 50);\n",
        "plt.subplot(1,2,2)\n",
        "plt.hist(y.view(-1,).tolist(), bins = 50);"
      ],
      "metadata": {
        "colab": {
          "base_uri": "https://localhost:8080/",
          "height": 324
        },
        "id": "ZKwgpEVoPvch",
        "outputId": "1bf3abca-857a-49dd-ee3d-98677dc9acdb"
      },
      "execution_count": 29,
      "outputs": [
        {
          "output_type": "stream",
          "name": "stdout",
          "text": [
            "tensor(-0.0030) tensor(1.0035)\n",
            "tensor(6.8975e-05) tensor(0.0559)\n"
          ]
        },
        {
          "output_type": "display_data",
          "data": {
            "text/plain": [
              "<Figure size 2000x500 with 2 Axes>"
            ],
            "image/png": "[encoded data removed]"
          },
          "metadata": {}
        }
      ]
    },
    {
      "cell_type": "markdown",
      "source": [
        "**(iv) Dividing it with sqrt(fallin)**\n",
        "\n",
        "std.dev(y) ~= std.dev(x)"
      ],
      "metadata": {
        "id": "vXo1x6kdQRb-"
      }
    },
    {
      "cell_type": "code",
      "source": [
        "x = torch.randn((1000, 30))\n",
        "w = torch.randn((30, 200)) / (30 ** 0.5) * 1     # kaiming init\n",
        "y = x @ w\n",
        "print(x.mean(), x.std())\n",
        "print(y.mean(), y.std())\n",
        "plt.figure(figsize=(20,5))\n",
        "plt.subplot(1,2,1)\n",
        "plt.hist(x.view(-1,).tolist(), bins = 50);\n",
        "plt.subplot(1,2,2)\n",
        "plt.hist(y.view(-1,).tolist(), bins = 50);"
      ],
      "metadata": {
        "colab": {
          "base_uri": "https://localhost:8080/",
          "height": 322
        },
        "id": "UXxS_NmnQckh",
        "outputId": "edf3f8ae-b62d-4eea-9d33-da22e77f441f"
      },
      "execution_count": 30,
      "outputs": [
        {
          "output_type": "stream",
          "name": "stdout",
          "text": [
            "tensor(-0.0071) tensor(0.9924)\n",
            "tensor(-0.0003) tensor(0.9915)\n"
          ]
        },
        {
          "output_type": "display_data",
          "data": {
            "text/plain": [
              "<Figure size 2000x500 with 2 Axes>"
            ],
            "image/png": "[encoded data removed]"
          },
          "metadata": {}
        }
      ]
    },
    {
      "cell_type": "markdown",
      "source": [
        "## **Kaiming init**\n",
        "\n",
        "For getting a equal distribution, multiply the random weights by std\n",
        "\n",
        "where std = gain * (sqrt(fallin))\n",
        "\n",
        "here,\n",
        "  - for linear act.func => gain = 1\n",
        "  - for non-linear act.func(tanh) => gain = (5/3)"
      ],
      "metadata": {
        "id": "KxpoOHAwUh-m"
      }
    },
    {
      "cell_type": "code",
      "source": [
        "n_emb = 10\n",
        "n_hidden = 200\n",
        "\n",
        "g = torch.Generator().manual_seed(2147483647)\n",
        "C = torch.randn((vocab_size, n_emb), generator=g)\n",
        "\n",
        "# Weights and bias\n",
        "W1 = torch.randn((n_emb * block_size, n_hidden), generator=g) * (5/3) / (n_emb * block_size) ** 0.5\n",
        "b1 = torch.randn(n_hidden, generator=g) * 0.01\n",
        "\n",
        "W2 = torch.randn((n_hidden, vocab_size), generator=g) * 0.01            # Non-zero\n",
        "b2 = torch.randn(vocab_size, generator=g) * 0                           # Since (+)\n",
        "\n",
        "parameters = [C, W1, b1, W2, b2]\n",
        "\n",
        "for params in parameters:\n",
        "  params.requires_grad = True"
      ],
      "metadata": {
        "id": "hqUE1oYYTgTi"
      },
      "execution_count": 31,
      "outputs": []
    },
    {
      "cell_type": "code",
      "source": [
        "lr = 0.12\n",
        "epochs = 70000\n",
        "batch_size = 32\n",
        "losses = []\n",
        "\n",
        "for epoch in range(epochs + 1):\n",
        "\n",
        "  # minibatch\n",
        "  ix = torch.randint(0, Xtr.shape[0], (batch_size,))\n",
        "\n",
        "  # forward pass\n",
        "  emb = C[Xtr[ix]]   # (batch_size, 2, 3)\n",
        "  embcat = emb.view(emb.shape[0], -1)   # (batch_size, 6)\n",
        "  hpreact = embcat @ W1 + b1  # (batch_size, n_hidden)\n",
        "  h = torch.tanh(hpreact)\n",
        "  logits = h @ W2 + b2   # (batch_size, vocab_size)\n",
        "  loss = F.cross_entropy(logits, Ytr[ix])\n",
        "\n",
        "  # backward pass\n",
        "  for p in parameters:\n",
        "    p.grad = None\n",
        "  loss.backward()\n",
        "\n",
        "  # update parameters\n",
        "  for p in parameters:\n",
        "    p.data += -lr * p.grad\n",
        "\n",
        "  if epoch % 10000 == 0:\n",
        "    print(f'{epoch} / {epochs}: {loss.item() : .4f}')\n",
        "  losses.append(loss.item())\n"
      ],
      "metadata": {
        "colab": {
          "base_uri": "https://localhost:8080/"
        },
        "id": "_g7hbanNT49C",
        "outputId": "c23e628f-f0c4-4ea6-fd69-e8daaa68299a"
      },
      "execution_count": 32,
      "outputs": [
        {
          "output_type": "stream",
          "name": "stdout",
          "text": [
            "0 / 70000:  3.3091\n",
            "10000 / 70000:  1.9785\n",
            "20000 / 70000:  2.2420\n",
            "30000 / 70000:  2.5354\n",
            "40000 / 70000:  2.3419\n",
            "50000 / 70000:  2.1785\n",
            "60000 / 70000:  2.0619\n",
            "70000 / 70000:  2.1564\n"
          ]
        }
      ]
    },
    {
      "cell_type": "code",
      "source": [
        "@torch.no_grad()\n",
        "def split_loss(split):\n",
        "  x, y = {\n",
        "      'train': (Xtr, Ytr),\n",
        "      'val': (Xval, Yval),\n",
        "      'test': (Xte, Yte),\n",
        "  }[split]\n",
        "  emb = C[x] # (N, block_size, n_embed)\n",
        "  embcat = emb.view(emb.shape[0], -1)\n",
        "  h = torch.tanh(embcat @ W1 + b1)\n",
        "  logits = h @ W2 + b2\n",
        "  loss = F.cross_entropy(logits, y)\n",
        "  print(split, loss.item())\n",
        "\n",
        "split_loss('train')\n",
        "split_loss('val')"
      ],
      "metadata": {
        "colab": {
          "base_uri": "https://localhost:8080/"
        },
        "id": "ABiiqD5rWOHH",
        "outputId": "543d4d3b-acc6-4c5d-c57c-5a0d22fbd951"
      },
      "execution_count": 33,
      "outputs": [
        {
          "output_type": "stream",
          "name": "stdout",
          "text": [
            "train 2.1495583057403564\n",
            "val 2.195878505706787\n"
          ]
        }
      ]
    },
    {
      "cell_type": "code",
      "source": [],
      "metadata": {
        "id": "6keIUV1FWsxW"
      },
      "execution_count": 33,
      "outputs": []
    },
    {
      "cell_type": "markdown",
      "source": [
        "## **Batch normalisation**\n",
        "\n",
        "Gonna make the pre-activation hpreact as unit-gaussian\n",
        "\n",
        "(i.e) for each y in hpreact\n",
        "\n",
        "y_new = ${\\frac{(y - mean(of the batch))}{ std(of the batch)}}$\n"
      ],
      "metadata": {
        "id": "Z6r_-DVTXVRT"
      }
    },
    {
      "cell_type": "code",
      "source": [
        "hpreact.shape"
      ],
      "metadata": {
        "colab": {
          "base_uri": "https://localhost:8080/"
        },
        "id": "uqx3vhmqXY_T",
        "outputId": "638a628c-2f8c-409b-a284-f5dd1730b4c9"
      },
      "execution_count": 34,
      "outputs": [
        {
          "output_type": "execute_result",
          "data": {
            "text/plain": [
              "torch.Size([32, 200])"
            ]
          },
          "metadata": {},
          "execution_count": 34
        }
      ]
    },
    {
      "cell_type": "code",
      "source": [
        "(hpreact.mean(dim = 0, keepdim = True).shape,\n",
        " hpreact.std(dim = 0, keepdim = True).shape)"
      ],
      "metadata": {
        "colab": {
          "base_uri": "https://localhost:8080/"
        },
        "id": "pUwJEDsYXsol",
        "outputId": "d70f3b70-4db7-4452-cfbe-61d803c42c69"
      },
      "execution_count": 35,
      "outputs": [
        {
          "output_type": "execute_result",
          "data": {
            "text/plain": [
              "(torch.Size([1, 200]), torch.Size([1, 200]))"
            ]
          },
          "metadata": {},
          "execution_count": 35
        }
      ]
    },
    {
      "cell_type": "code",
      "source": [
        "lr = 0.12\n",
        "epochs = 70000\n",
        "batch_size = 32\n",
        "losses = []\n",
        "\n",
        "for epoch in range(epochs + 1):\n",
        "\n",
        "  # minibatch\n",
        "  ix = torch.randint(0, Xtr.shape[0], (batch_size,))\n",
        "\n",
        "  # forward pass\n",
        "  emb = C[Xtr[ix]]   # (batch_size, 2, 3)\n",
        "  embcat = emb.view(emb.shape[0], -1)   # (batch_size, 6)\n",
        "  # ----\n",
        "  hpreact = (embcat @ W1 + b1)\n",
        "  hpreact = (hpreact - hpreact.mean(dim = 0, keepdim = True)) / hpreact.std(dim = 0, keepdim = True)\n",
        "  # ----\n",
        "  h = torch.tanh(hpreact)\n",
        "  logits = h @ W2 + b2   # (batch_size, vocab_size)\n",
        "  loss = F.cross_entropy(logits, Ytr[ix])\n",
        "\n",
        "  # backward pass\n",
        "  for p in parameters:\n",
        "    p.grad = None\n",
        "  loss.backward()\n",
        "\n",
        "  # update parameters\n",
        "  for p in parameters:\n",
        "    p.data += -lr * p.grad\n",
        "\n",
        "  if epoch % 10000 == 0:\n",
        "    print(f'{epoch} / {epochs}: {loss.item() : .4f}')\n",
        "  losses.append(loss.item())"
      ],
      "metadata": {
        "id": "_B1gIVR1aKWm",
        "colab": {
          "base_uri": "https://localhost:8080/"
        },
        "outputId": "7da21159-9d1e-4a53-e341-1cb03742efe0"
      },
      "execution_count": 36,
      "outputs": [
        {
          "output_type": "stream",
          "name": "stdout",
          "text": [
            "0 / 70000:  2.6796\n",
            "10000 / 70000:  1.8722\n",
            "20000 / 70000:  2.3452\n",
            "30000 / 70000:  2.1910\n",
            "40000 / 70000:  2.1967\n",
            "50000 / 70000:  2.8433\n",
            "60000 / 70000:  2.3519\n",
            "70000 / 70000:  1.8471\n"
          ]
        }
      ]
    },
    {
      "cell_type": "markdown",
      "source": [
        "But we need the batch normalisation only during initialisation\n",
        "\n",
        "So, we offset the gained y as\n",
        "\n",
        "y_new = $(\\gamma * Y) + β$"
      ],
      "metadata": {
        "id": "-c5RqUJIbF_L"
      }
    },
    {
      "cell_type": "code",
      "source": [
        "n_emb = 10\n",
        "n_hidden = 200\n",
        "\n",
        "g = torch.Generator().manual_seed(2147483647)\n",
        "C = torch.randn((vocab_size, n_emb), generator=g)\n",
        "\n",
        "# Weights and bias\n",
        "W1 = torch.randn((n_emb * block_size, n_hidden), generator=g) * (5/3) / (n_emb * block_size) ** 0.5\n",
        "b1 = torch.randn(n_hidden, generator=g) * 0.01\n",
        "\n",
        "W2 = torch.randn((n_hidden, vocab_size), generator=g) * 0.01            # Non-zero\n",
        "b2 = torch.randn(vocab_size, generator=g) * 0                           # Since (+)\n",
        "\n",
        "batch_gain = torch.ones((1, n_hidden))\n",
        "batch_bias = torch.zeros((1, n_hidden))\n",
        "\n",
        "parameters = [C, W1, b1, W2, b2, batch_gain, batch_bias]\n",
        "\n",
        "for params in parameters:\n",
        "  params.requires_grad = True"
      ],
      "metadata": {
        "id": "40fG3_DSbrCR"
      },
      "execution_count": 37,
      "outputs": []
    },
    {
      "cell_type": "code",
      "source": [
        "lr = 0.12\n",
        "epochs = 70000\n",
        "batch_size = 32\n",
        "losses = []\n",
        "\n",
        "for epoch in range(epochs + 1):\n",
        "\n",
        "  # minibatch\n",
        "  ix = torch.randint(0, Xtr.shape[0], (batch_size,))\n",
        "\n",
        "  # forward pass\n",
        "  emb = C[Xtr[ix]]   # (batch_size, 2, 3)\n",
        "  embcat = emb.view(emb.shape[0], -1)   # (batch_size, 6)\n",
        "  # ----\n",
        "  hpreact = (embcat @ W1 + b1)\n",
        "  hpreact = batch_gain * (hpreact - hpreact.mean(dim = 0, keepdim = True)) / hpreact.std(dim = 0, keepdim = True) + batch_bias\n",
        "  # ----\n",
        "  h = torch.tanh(hpreact)\n",
        "  logits = h @ W2 + b2   # (batch_size, vocab_size)\n",
        "  loss = F.cross_entropy(logits, Ytr[ix])\n",
        "\n",
        "  # backward pass\n",
        "  for p in parameters:\n",
        "    p.grad = None\n",
        "  loss.backward()\n",
        "\n",
        "  # update parameters\n",
        "  for p in parameters:\n",
        "    p.data += -lr * p.grad\n",
        "\n",
        "  if epoch % 10000 == 0:\n",
        "    print(f'{epoch} / {epochs}: {loss.item() : .4f}')\n",
        "  losses.append(loss.item())"
      ],
      "metadata": {
        "colab": {
          "base_uri": "https://localhost:8080/"
        },
        "id": "1xGAUZySb7mf",
        "outputId": "e0d927cb-a599-4f24-9144-90a13ec509dc"
      },
      "execution_count": 38,
      "outputs": [
        {
          "output_type": "stream",
          "name": "stdout",
          "text": [
            "0 / 70000:  3.2799\n",
            "10000 / 70000:  2.6874\n",
            "20000 / 70000:  1.9520\n",
            "30000 / 70000:  1.8459\n",
            "40000 / 70000:  2.2642\n",
            "50000 / 70000:  2.2090\n",
            "60000 / 70000:  2.1239\n",
            "70000 / 70000:  2.1205\n"
          ]
        }
      ]
    },
    {
      "cell_type": "code",
      "source": [
        "@torch.no_grad()\n",
        "def split_loss(split):\n",
        "  x, y = {\n",
        "      'train': (Xtr, Ytr),\n",
        "      'val': (Xval, Yval),\n",
        "      'test': (Xte, Yte),\n",
        "  }[split]\n",
        "  emb = C[x] # (N, block_size, n_embed)\n",
        "  embcat = emb.view(emb.shape[0], -1)\n",
        "  hpreact = embcat @ W1 + b1\n",
        "  hpreact = batch_gain * (hpreact - hpreact.mean(dim = 0, keepdim = True)) / hpreact.std(dim = 0, keepdim = True) + batch_bias\n",
        "  h = torch.tanh(hpreact)\n",
        "  logits = h @ W2 + b2\n",
        "  loss = F.cross_entropy(logits, y)\n",
        "  print(split, loss.item())\n",
        "\n",
        "split_loss('train')\n",
        "split_loss('val')"
      ],
      "metadata": {
        "colab": {
          "base_uri": "https://localhost:8080/"
        },
        "id": "cBgJKzjIcVvV",
        "outputId": "f824354f-2e28-4a73-948b-5a0a6b4fa477"
      },
      "execution_count": 39,
      "outputs": [
        {
          "output_type": "stream",
          "name": "stdout",
          "text": [
            "train 2.166491746902466\n",
            "val 2.1924960613250732\n"
          ]
        }
      ]
    },
    {
      "cell_type": "markdown",
      "source": [
        "Now the neural net expects a batch always as it computes mean and std now and if we want to give a single input to the neural net, then it will throw error\n",
        "\n",
        "So we can calibrate the entire mean and std after the training and then use this mean and std for testing\n"
      ],
      "metadata": {
        "id": "lbFJvjGbftBr"
      }
    },
    {
      "cell_type": "code",
      "source": [
        "# calibrate batch norm at the end of training set\n",
        "\n",
        "with torch.no_grad():\n",
        "  # passing the training set\n",
        "  emb = C[Xtr]\n",
        "  embcat = emb.view(emb.shape[0], -1)\n",
        "  hpreact = embcat @ W1 + b1\n",
        "\n",
        "  # measure the mean/std over the entire training set\n",
        "  batch_mean = hpreact.mean(dim = 0, keepdim = True)\n",
        "  batch_std = hpreact.std(dim = 0, keepdim = True)"
      ],
      "metadata": {
        "id": "S9tKPWrLggw1"
      },
      "execution_count": 40,
      "outputs": []
    },
    {
      "cell_type": "code",
      "source": [
        "@torch.no_grad()\n",
        "def split_loss(split):\n",
        "  x, y = {\n",
        "      'train': (Xtr, Ytr),\n",
        "      'val': (Xval, Yval),\n",
        "      'test': (Xte, Yte),\n",
        "  }[split]\n",
        "  emb = C[x] # (N, block_size, n_embed)\n",
        "  embcat = emb.view(emb.shape[0], -1)\n",
        "  hpreact = embcat @ W1 + b1\n",
        "  hpreact = batch_gain * ((hpreact - batch_mean) / batch_std) + batch_bias\n",
        "  h = torch.tanh(hpreact)\n",
        "  logits = h @ W2 + b2\n",
        "  loss = F.cross_entropy(logits, y)\n",
        "  print(split, loss.item())\n",
        "\n",
        "split_loss('train')\n",
        "split_loss('val')"
      ],
      "metadata": {
        "colab": {
          "base_uri": "https://localhost:8080/"
        },
        "id": "0gtP4NekhQXL",
        "outputId": "a68f9410-8fe2-4546-ecb4-72b45f0cbd66"
      },
      "execution_count": 41,
      "outputs": [
        {
          "output_type": "stream",
          "name": "stdout",
          "text": [
            "train 2.166491746902466\n",
            "val 2.192749500274658\n"
          ]
        }
      ]
    },
    {
      "cell_type": "markdown",
      "source": [
        "**Combining the above two steps into a single process**"
      ],
      "metadata": {
        "id": "q8Re0-itom-V"
      }
    },
    {
      "cell_type": "code",
      "source": [
        "n_emb = 10\n",
        "n_hidden = 200\n",
        "\n",
        "g = torch.Generator().manual_seed(2147483647)\n",
        "C = torch.randn((vocab_size, n_emb), generator=g)\n",
        "\n",
        "# Weights and bias\n",
        "W1 = torch.randn((n_emb * block_size, n_hidden), generator=g) * (5/3) / (n_emb * block_size) ** 0.5\n",
        "#b1 = torch.randn(n_hidden, generator=g) * 0.01\n",
        "\n",
        "W2 = torch.randn((n_hidden, vocab_size), generator=g) * 0.01            # Non-zero\n",
        "b2 = torch.randn(vocab_size, generator=g) * 0                           # Since (+)\n",
        "\n",
        "batch_gain = torch.ones((1, n_hidden))\n",
        "batch_bias = torch.zeros((1, n_hidden))\n",
        "batch_mean_running = torch.zeros((1, n_hidden))\n",
        "batch_std_running = torch.ones((1, n_hidden))\n",
        "\n",
        "parameters = [C, W1, W2, b2, batch_gain, batch_bias]\n",
        "\n",
        "for params in parameters:\n",
        "  params.requires_grad = True"
      ],
      "metadata": {
        "id": "58Fpxvb4owID"
      },
      "execution_count": 42,
      "outputs": []
    },
    {
      "cell_type": "code",
      "source": [
        "lr = 0.12\n",
        "epochs = 70000\n",
        "batch_size = 32\n",
        "losses = []\n",
        "\n",
        "for epoch in range(epochs + 1):\n",
        "\n",
        "  # minibatch\n",
        "  ix = torch.randint(0, Xtr.shape[0], (batch_size,))\n",
        "\n",
        "  # forward pass\n",
        "  emb = C[Xtr[ix]]   # (batch_size, 2, 3)\n",
        "  embcat = emb.view(emb.shape[0], -1)   # (batch_size, 6)\n",
        "  # ----\n",
        "  hpreact = (embcat @ W1)     # removed the bias as batch_bias is gonna do it\n",
        "  bmeani = hpreact.mean(dim = 0, keepdim = True)\n",
        "  bstdi = hpreact.std(dim = 0, keepdim = True)\n",
        "  hpreact = batch_gain * (hpreact - bmeani) / bstdi + batch_bias\n",
        "\n",
        "  with torch.no_grad():\n",
        "    batch_mean_running = 0.999 * batch_mean_running + 0.001 * bmeani\n",
        "    batch_std_running = 0.999 * batch_std_running + 0.001 * bstdi\n",
        "\n",
        "  # ----\n",
        "  h = torch.tanh(hpreact)\n",
        "  logits = h @ W2 + b2   # (batch_size, vocab_size)\n",
        "  loss = F.cross_entropy(logits, Ytr[ix])\n",
        "\n",
        "  # backward pass\n",
        "  for p in parameters:\n",
        "    p.grad = None\n",
        "  loss.backward()\n",
        "\n",
        "  # update parameters\n",
        "  for p in parameters:\n",
        "    p.data += -lr * p.grad\n",
        "\n",
        "  if epoch % 10000 == 0:\n",
        "    print(f'{epoch} / {epochs}: {loss.item() : .4f}')\n",
        "  losses.append(loss.item())"
      ],
      "metadata": {
        "colab": {
          "base_uri": "https://localhost:8080/"
        },
        "id": "KCexjhHipCu7",
        "outputId": "d543ad23-f7fc-4f33-932d-d3bcc8bfc1fc"
      },
      "execution_count": 43,
      "outputs": [
        {
          "output_type": "stream",
          "name": "stdout",
          "text": [
            "0 / 70000:  3.2773\n",
            "10000 / 70000:  2.2810\n",
            "20000 / 70000:  2.5000\n",
            "30000 / 70000:  2.3641\n",
            "40000 / 70000:  2.1466\n",
            "50000 / 70000:  2.2869\n",
            "60000 / 70000:  1.8743\n",
            "70000 / 70000:  2.4480\n"
          ]
        }
      ]
    },
    {
      "cell_type": "code",
      "source": [
        "print(f'batch_mean(for first 5 samples) => {batch_mean[0][:5]}\\nbatch_mean_running(for first 5 samples) => {batch_mean_running[0][:5]}')"
      ],
      "metadata": {
        "colab": {
          "base_uri": "https://localhost:8080/"
        },
        "id": "rp0fFhXPp7Gv",
        "outputId": "5de39867-f513-48c9-cd52-ffa6bf186707"
      },
      "execution_count": 44,
      "outputs": [
        {
          "output_type": "stream",
          "name": "stdout",
          "text": [
            "batch_mean(for first 5 samples) => tensor([-2.4477,  0.1569, -1.3874,  0.9608,  0.9248])\n",
            "batch_mean_running(for first 5 samples) => tensor([-1.9265, -0.0036, -1.8868,  1.0453,  1.0878])\n"
          ]
        }
      ]
    },
    {
      "cell_type": "code",
      "source": [
        "print(f'batch_std(for first 5 samples) => {batch_std[0][:5]}\\nbatch_std_running(for first 5 samples) => {batch_std_running[0][:5]}')"
      ],
      "metadata": {
        "colab": {
          "base_uri": "https://localhost:8080/"
        },
        "id": "GLF5jmeIqzfn",
        "outputId": "e589ed16-6304-4ce7-e447-0316a078ba90"
      },
      "execution_count": 45,
      "outputs": [
        {
          "output_type": "stream",
          "name": "stdout",
          "text": [
            "batch_std(for first 5 samples) => tensor([2.3810, 2.0919, 1.7953, 2.0465, 2.2169])\n",
            "batch_std_running(for first 5 samples) => tensor([2.2231, 1.9891, 1.8905, 1.9333, 2.0468])\n"
          ]
        }
      ]
    },
    {
      "cell_type": "code",
      "source": [
        "@torch.no_grad()\n",
        "def split_loss(split):\n",
        "  x, y = {\n",
        "      'train': (Xtr, Ytr),\n",
        "      'val': (Xval, Yval),\n",
        "      'test': (Xte, Yte),\n",
        "  }[split]\n",
        "  emb = C[x] # (N, block_size, n_embed)\n",
        "  embcat = emb.view(emb.shape[0], -1)\n",
        "  hpreact = embcat @ W1 + b1\n",
        "  hpreact = batch_gain * ((hpreact - batch_mean_running) / batch_std_running) + batch_bias\n",
        "  h = torch.tanh(hpreact)\n",
        "  logits = h @ W2 + b2\n",
        "  loss = F.cross_entropy(logits, y)\n",
        "  print(split, loss.item())\n",
        "\n",
        "split_loss('train')\n",
        "split_loss('val')"
      ],
      "metadata": {
        "colab": {
          "base_uri": "https://localhost:8080/"
        },
        "id": "pwqYvpJSp2d3",
        "outputId": "abce10d0-e340-436d-f431-c9ffdbe0354f"
      },
      "execution_count": 46,
      "outputs": [
        {
          "output_type": "stream",
          "name": "stdout",
          "text": [
            "train 2.1676132678985596\n",
            "val 2.197421073913574\n"
          ]
        }
      ]
    }
  ]
}
