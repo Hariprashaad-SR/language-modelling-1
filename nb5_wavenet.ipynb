{
  "nbformat": 4,
  "nbformat_minor": 0,
  "metadata": {
    "colab": {
      "provenance": []
    },
    "kernelspec": {
      "name": "python3",
      "display_name": "Python 3"
    },
    "language_info": {
      "name": "python"
    }
  },
  "cells": [
    {
      "cell_type": "markdown",
      "source": [
        "# **So far**"
      ],
      "metadata": {
        "id": "ICVwcHSD6MR4"
      }
    },
    {
      "cell_type": "code",
      "execution_count": 1,
      "metadata": {
        "id": "9ebwlGF4je2Q"
      },
      "outputs": [],
      "source": [
        "import torch\n",
        "import matplotlib.pyplot as plt\n",
        "import torch.nn.functional as F\n",
        "import random"
      ]
    },
    {
      "cell_type": "code",
      "source": [
        "words = open('names.txt', 'r').read().splitlines()\n",
        "len(words)"
      ],
      "metadata": {
        "colab": {
          "base_uri": "https://localhost:8080/"
        },
        "id": "iQAmV-8wjg9S",
        "outputId": "f8e64be2-63c1-4d34-bda3-1e354b18f0ec"
      },
      "execution_count": 2,
      "outputs": [
        {
          "output_type": "execute_result",
          "data": {
            "text/plain": [
              "32033"
            ]
          },
          "metadata": {},
          "execution_count": 2
        }
      ]
    },
    {
      "cell_type": "code",
      "source": [
        "chars = sorted(list(set(''.join(words))))\n",
        "stoi = {s:i+1 for i,s in enumerate(chars)}\n",
        "stoi['.'] = 0\n",
        "itos = {i:s for s,i in stoi.items()}"
      ],
      "metadata": {
        "id": "U2qs5rdKjg_Y"
      },
      "execution_count": 3,
      "outputs": []
    },
    {
      "cell_type": "code",
      "source": [
        "vocab_size = len(itos)\n",
        "vocab_size"
      ],
      "metadata": {
        "colab": {
          "base_uri": "https://localhost:8080/"
        },
        "id": "3pPuICLOjhBd",
        "outputId": "d45d1332-be46-4242-f815-51de57f5b9f5"
      },
      "execution_count": 4,
      "outputs": [
        {
          "output_type": "execute_result",
          "data": {
            "text/plain": [
              "27"
            ]
          },
          "metadata": {},
          "execution_count": 4
        }
      ]
    },
    {
      "cell_type": "code",
      "source": [
        "class Linear:\n",
        "  def __init__(self, fan_in, fan_out, bias = True):\n",
        "    self.weight = torch.randn((fan_in, fan_out), generator = g) / fan_in ** 0.5\n",
        "    self.bias = torch.zeros(fan_out) if bias else None\n",
        "\n",
        "  def __call__(self, x):\n",
        "    self.out = x @ self.weight\n",
        "    if self.bias is not None:\n",
        "      self.out += self.bias\n",
        "    return self.out\n",
        "\n",
        "  def parameters(self):\n",
        "    return [self.weight] + ([] if self.bias is None else [self.bias])"
      ],
      "metadata": {
        "id": "jcHNtpJrjhFH"
      },
      "execution_count": 5,
      "outputs": []
    },
    {
      "cell_type": "code",
      "source": [
        "class BatchNorm1d:\n",
        "  def __init__(self, dim, eps = 1e-5, momentum = 0.1):\n",
        "    self.eps = eps\n",
        "    self.momentum = momentum\n",
        "    self.training = True\n",
        "\n",
        "    self.gamma = torch.ones(dim)\n",
        "    self.beta = torch.zeros(dim)\n",
        "\n",
        "    self.running_mean = torch.zeros(dim)\n",
        "    self.running_var = torch.ones(dim)\n",
        "\n",
        "  def __call__(self, x):\n",
        "    if self.training:\n",
        "      xmean = x.mean(0, keepdim = True)\n",
        "      xvar = x.var(0, keepdim = True)\n",
        "    else:\n",
        "      xmean = self.running_mean\n",
        "      xvar = self.running_var\n",
        "\n",
        "    xhat = (x - xmean) / torch.sqrt(xvar + self.eps)\n",
        "    self.out = self.gamma * xhat + self.beta\n",
        "\n",
        "    if self.training:\n",
        "      with torch.no_grad():\n",
        "        self.running_mean = (1 - self.momentum) * self.running_mean + (self.momentum) * xmean\n",
        "        self.running_var = (1 - self.momentum) * self.running_var + (self.momentum) * xvar\n",
        "\n",
        "    return self.out\n",
        "\n",
        "  def parameters(self):\n",
        "    return [self.gamma, self.beta]"
      ],
      "metadata": {
        "id": "NLir0z_tj1bf"
      },
      "execution_count": 6,
      "outputs": []
    },
    {
      "cell_type": "code",
      "source": [
        "class Tanh:\n",
        "  def __call__(self, x):\n",
        "    self.out = torch.tanh(x)\n",
        "    return self.out\n",
        "\n",
        "  def parameters(self):\n",
        "    return []"
      ],
      "metadata": {
        "id": "8jZrEub0j1-a"
      },
      "execution_count": 7,
      "outputs": []
    },
    {
      "cell_type": "code",
      "source": [
        "class Embedding:\n",
        "  def __init__(self, num_embeddings, embedding_dim):\n",
        "    self.weight = torch.randn((num_embeddings, embedding_dim))\n",
        "\n",
        "  def __call__(self, IX):\n",
        "    self.out = self.weight[IX]\n",
        "    return self.out\n",
        "\n",
        "  def parameters(self):\n",
        "    return []"
      ],
      "metadata": {
        "id": "RqDdNxGxwE7n"
      },
      "execution_count": 8,
      "outputs": []
    },
    {
      "cell_type": "code",
      "source": [
        "class Flatten:\n",
        "  def __call__(self, x):\n",
        "    self.out = x.view(x.shape[0], -1)\n",
        "    return self.out\n",
        "\n",
        "  def parameters(self):\n",
        "    return []"
      ],
      "metadata": {
        "id": "Yn-ZWrEzwU-5"
      },
      "execution_count": 9,
      "outputs": []
    },
    {
      "cell_type": "code",
      "source": [
        "class Sequential:\n",
        "  def __init__(self, layers):\n",
        "    self.layers = layers\n",
        "\n",
        "  def __call__(self, x):\n",
        "    for layer in self.layers:\n",
        "      x = layer(x)\n",
        "    return x\n",
        "\n",
        "  def parameters(self):\n",
        "    return [p for layer in self.layers for p in layer.parameters()]"
      ],
      "metadata": {
        "id": "7QFL3rWXxc0k"
      },
      "execution_count": 10,
      "outputs": []
    },
    {
      "cell_type": "code",
      "source": [
        "block_size = 8 # context length: how many characters do we take to predict the next one\n",
        "\n",
        "def build_dataset(words):\n",
        "  # build the dataset\n",
        "\n",
        "  X, Y = [], []\n",
        "  for w in words:\n",
        "    context = [0] * block_size\n",
        "    for ch in w + '.':\n",
        "      ix = stoi[ch]\n",
        "      X.append(context)\n",
        "      Y.append(ix)\n",
        "      context = context[1:] + [ix] # crop and append\n",
        "\n",
        "  X = torch.tensor(X)\n",
        "  Y = torch.tensor(Y)\n",
        "  print(X.shape, Y.shape)\n",
        "  return X, Y"
      ],
      "metadata": {
        "id": "VQ9wDtEejhDi"
      },
      "execution_count": 11,
      "outputs": []
    },
    {
      "cell_type": "code",
      "source": [
        "import random\n",
        "random.shuffle(words)\n",
        "\n",
        "num1 = len(words) * 0.8\n",
        "Xtr, Ytr = build_dataset(words[:int(num1)])\n",
        "Xte, Yte = build_dataset(words[int(num1):])\n",
        "\n",
        "g = torch.Generator().manual_seed(42)"
      ],
      "metadata": {
        "colab": {
          "base_uri": "https://localhost:8080/"
        },
        "id": "pB_-Uz8Ejt93",
        "outputId": "0ef81bb6-dcfa-4fd4-d55e-f1ea3e2bc86a"
      },
      "execution_count": 12,
      "outputs": [
        {
          "output_type": "stream",
          "name": "stdout",
          "text": [
            "torch.Size([182583, 8]) torch.Size([182583])\n",
            "torch.Size([45563, 8]) torch.Size([45563])\n"
          ]
        }
      ]
    },
    {
      "cell_type": "code",
      "source": [
        "n_emb = 10\n",
        "n_hidden = 100\n",
        "\n",
        "model = Sequential([\n",
        "    Embedding(vocab_size, n_emb),\n",
        "    Flatten(),\n",
        "    Linear(n_emb * block_size, n_hidden),BatchNorm1d(n_hidden), Tanh(),\n",
        "    Linear(n_hidden, vocab_size), BatchNorm1d(vocab_size),\n",
        "])\n",
        "\n",
        "with torch.no_grad():\n",
        "  model.layers[-1].gamma *= 0.1\n",
        "  for layer in model.layers[:-1]:\n",
        "    if isinstance(layer, Linear):\n",
        "      layer.weight *= (5/3)\n",
        "\n",
        "parameters = model.parameters()\n",
        "print(sum(p.nelement() for p in parameters))\n",
        "\n",
        "for p in parameters:\n",
        "  p.requires_grad = True"
      ],
      "metadata": {
        "colab": {
          "base_uri": "https://localhost:8080/"
        },
        "id": "TA5bQTGzjt_r",
        "outputId": "4ae148f5-b366-4a74-e539-1532530d3971"
      },
      "execution_count": 13,
      "outputs": [
        {
          "output_type": "stream",
          "name": "stdout",
          "text": [
            "11081\n"
          ]
        }
      ]
    },
    {
      "cell_type": "code",
      "source": [
        "[model.layers[i].__class__.__name__ for i in range(7)]"
      ],
      "metadata": {
        "colab": {
          "base_uri": "https://localhost:8080/"
        },
        "id": "LwqKxHnbQjPy",
        "outputId": "eab91ef0-1be0-4124-f87e-5ccb403f0c7b"
      },
      "execution_count": 14,
      "outputs": [
        {
          "output_type": "execute_result",
          "data": {
            "text/plain": [
              "['Embedding',\n",
              " 'Flatten',\n",
              " 'Linear',\n",
              " 'BatchNorm1d',\n",
              " 'Tanh',\n",
              " 'Linear',\n",
              " 'BatchNorm1d']"
            ]
          },
          "metadata": {},
          "execution_count": 14
        }
      ]
    },
    {
      "cell_type": "code",
      "source": [
        "lr = 0.12\n",
        "epochs = 70000\n",
        "batch_size = 32\n",
        "losses = []\n",
        "ud = []\n",
        "\n",
        "for epoch in range(epochs + 1):\n",
        "  if epoch > 50000:\n",
        "    lr = 0.01\n",
        "\n",
        "  # minibatch\n",
        "  ix = torch.randint(0, Xtr.shape[0], (batch_size,), generator = g)\n",
        "  Xb, Yb = Xtr[ix], Ytr[ix]\n",
        "\n",
        "  # forward pass\n",
        "  logits = model(Xb)\n",
        "  loss = F.cross_entropy(logits, Yb)\n",
        "\n",
        "  # backward pass\n",
        "  for p in parameters:\n",
        "    p.grad = None\n",
        "  loss.backward()\n",
        "\n",
        "  # update parameters\n",
        "  for p in parameters:\n",
        "    p.data += -lr * p.grad\n",
        "\n",
        "  if epoch % 10000 == 0:\n",
        "    print(f'{epoch} / {epochs}: {loss.item() : .4f}')\n",
        "  losses.append(loss.item())"
      ],
      "metadata": {
        "colab": {
          "base_uri": "https://localhost:8080/"
        },
        "id": "a45q33eSkhEx",
        "outputId": "76b5f5d0-0cf1-496d-820f-26b266c15425"
      },
      "execution_count": 15,
      "outputs": [
        {
          "output_type": "stream",
          "name": "stdout",
          "text": [
            "0 / 70000:  3.2996\n",
            "10000 / 70000:  2.7044\n",
            "20000 / 70000:  2.4935\n",
            "30000 / 70000:  2.5750\n",
            "40000 / 70000:  2.1397\n",
            "50000 / 70000:  2.3554\n",
            "60000 / 70000:  1.8683\n",
            "70000 / 70000:  2.2252\n"
          ]
        }
      ]
    },
    {
      "cell_type": "code",
      "source": [
        "plt.plot([250 * x for x in range(280)],torch.tensor(losses[:-1]).view(-1, 250).mean(1))"
      ],
      "metadata": {
        "colab": {
          "base_uri": "https://localhost:8080/",
          "height": 448
        },
        "id": "H_7LORQ9kvVR",
        "outputId": "c0a6fc93-5089-4752-e9de-88b93efbbd5e"
      },
      "execution_count": 16,
      "outputs": [
        {
          "output_type": "execute_result",
          "data": {
            "text/plain": [
              "[<matplotlib.lines.Line2D at 0x7e0c0a5b3280>]"
            ]
          },
          "metadata": {},
          "execution_count": 16
        },
        {
          "output_type": "display_data",
          "data": {
            "text/plain": [
              "<Figure size 640x480 with 1 Axes>"
            ],
            "image/png": "[encoded data removed]"
          },
          "metadata": {}
        }
      ]
    },
    {
      "cell_type": "code",
      "source": [
        "for layer in model.layers:\n",
        "  layer.training = False"
      ],
      "metadata": {
        "id": "8hqipQ5Tk563"
      },
      "execution_count": 17,
      "outputs": []
    },
    {
      "cell_type": "code",
      "source": [
        "@torch.no_grad() # this decorator disables gradient tracking\n",
        "def split_loss(split):\n",
        "  x, y = {\n",
        "      'train' : (Xtr, Ytr),\n",
        "      'test' : (Xte, Yte)\n",
        "  }[split]\n",
        "  logits = model(x)\n",
        "  loss = F.cross_entropy(logits, y)\n",
        "  print(f'Model loss : {loss.item() : .4f}')\n",
        "\n",
        "# put layers into eval mode\n",
        "for layer in model.layers:\n",
        "  layer.training = False\n",
        "\n",
        "split_loss(\"train\")\n",
        "split_loss(\"test\")"
      ],
      "metadata": {
        "colab": {
          "base_uri": "https://localhost:8080/"
        },
        "id": "prci91q2lFzk",
        "outputId": "74d704a9-c243-46be-9a67-a696c155cd77"
      },
      "execution_count": 18,
      "outputs": [
        {
          "output_type": "stream",
          "name": "stdout",
          "text": [
            "Model loss :  2.0836\n",
            "Model loss :  2.1238\n"
          ]
        }
      ]
    },
    {
      "cell_type": "code",
      "source": [
        "# sample from the model\n",
        "g = torch.Generator().manual_seed(2147483647 + 10)\n",
        "\n",
        "for _ in range(20):\n",
        "    out = []\n",
        "    context = [0] * block_size # initialize with all ...\n",
        "    while True:\n",
        "      # forward pass the neural net\n",
        "      logits = model(torch.tensor([context]))\n",
        "      probs = F.softmax(logits, dim=1)\n",
        "      # sample from the distribution\n",
        "      ix = torch.multinomial(probs, num_samples=1, generator=g).item()\n",
        "      # shift the context window and track the samples\n",
        "      context = context[1:] + [ix]\n",
        "      out.append(ix)\n",
        "      # if we sample the special '.' token, break\n",
        "      if ix == 0:\n",
        "        break\n",
        "\n",
        "    print(''.join(itos[i] for i in out))"
      ],
      "metadata": {
        "colab": {
          "base_uri": "https://localhost:8080/"
        },
        "id": "ZKPp-j9blJiL",
        "outputId": "f2b6512d-7558-4430-9f77-70b52ac1a1c5"
      },
      "execution_count": 19,
      "outputs": [
        {
          "output_type": "stream",
          "name": "stdout",
          "text": [
            "mriani.\n",
            "yazziee.\n",
            "medhayah.\n",
            "rethrs.\n",
            "ejdrlen.\n",
            "adelynne.\n",
            "illemi.\n",
            "jenreden.\n",
            "vangean.\n",
            "kayzion.\n",
            "kalin.\n",
            "shubergahi.\n",
            "jestin.\n",
            "jowelle.\n",
            "jettrif.\n",
            "ubren.\n",
            "dariyah.\n",
            "fmehs.\n",
            "kayshawn.\n",
            "yamihan.\n"
          ]
        }
      ]
    },
    {
      "cell_type": "markdown",
      "source": [
        "## **RESULT**\n",
        "\n",
        "```\n",
        "BATCH SIZE  |  PERFORMANCE\n",
        "--------------------------------\n",
        "    3       |  train = 2.1227\n",
        "            |   test = 2.1605\n",
        "--------------------------------\n",
        "    8       |  train = 2.0836\n",
        "            |   test = 2.1238\n",
        "--------------------------------\n",
        "```"
      ],
      "metadata": {
        "id": "pMxmvDRzCtsC"
      }
    },
    {
      "cell_type": "markdown",
      "source": [
        "# **Wavenet**\n",
        "\n",
        "![Wavenet](https://production-media.paperswithcode.com/methods/Screen_Shot_2020-05-24_at_12.11.35_AM_uO4kv1I.png)"
      ],
      "metadata": {
        "id": "yRJImQt76IgP"
      }
    },
    {
      "cell_type": "markdown",
      "source": [
        "It only involves the last layer alone in matrix multiplication\n",
        "\n",
        "(1 2) (3 4) (5 6) (7 8) => needs to create batches and process in parallel"
      ],
      "metadata": {
        "id": "ypl3iKQEGvjS"
      }
    },
    {
      "cell_type": "code",
      "source": [
        "(torch.randn(4,5,6,80) @ torch.randn(80, 10)).shape"
      ],
      "metadata": {
        "colab": {
          "base_uri": "https://localhost:8080/"
        },
        "id": "KE2r4nTsyY_j",
        "outputId": "259e8b10-71a0-4af7-93c5-86813895e57b"
      },
      "execution_count": 20,
      "outputs": [
        {
          "output_type": "execute_result",
          "data": {
            "text/plain": [
              "torch.Size([4, 5, 6, 10])"
            ]
          },
          "metadata": {},
          "execution_count": 20
        }
      ]
    },
    {
      "cell_type": "code",
      "source": [
        "e = torch.randn(4,8,10) # goal : want this to be (4 * 4 * 20) where consecutive 10-d vectors gets concatenated\n",
        "exp1 = e.view(e.shape[0], -1 , e.shape[2]*2) # big brain!! :)\n",
        "exp2 = torch.cat([e[: , ::2, : ], e[:, 1::2, :]], dim = 2)\n",
        "print(torch.all(exp1 == exp2))"
      ],
      "metadata": {
        "id": "3dJGYue3ITKI",
        "colab": {
          "base_uri": "https://localhost:8080/"
        },
        "outputId": "e8332929-3f86-44f2-9768-5d9ff995ca5d"
      },
      "execution_count": 21,
      "outputs": [
        {
          "output_type": "stream",
          "name": "stdout",
          "text": [
            "tensor(True)\n"
          ]
        }
      ]
    },
    {
      "cell_type": "code",
      "source": [
        "# ------------------------------------------------------------------------------\n",
        "\n",
        "class Linear:\n",
        "  def __init__(self, fan_in, fan_out, bias = True):\n",
        "    self.weight = torch.randn((fan_in, fan_out), generator = g) / fan_in ** 0.5\n",
        "    self.bias = torch.zeros(fan_out) if bias else None\n",
        "\n",
        "  def __call__(self, x):\n",
        "    self.out = x @ self.weight\n",
        "    if self.bias is not None:\n",
        "      self.out += self.bias\n",
        "    return self.out\n",
        "\n",
        "  def parameters(self):\n",
        "    return [self.weight] + ([] if self.bias is None else [self.bias])\n",
        "\n",
        "# ------------------------------------------------------------------------------\\\n",
        "\n",
        "class BatchNorm1d:\n",
        "  def __init__(self, dim, eps = 1e-5, momentum = 0.1):\n",
        "    self.eps = eps\n",
        "    self.momentum = momentum\n",
        "    self.training = True\n",
        "\n",
        "    self.gamma = torch.ones(dim)\n",
        "    self.beta = torch.zeros(dim)\n",
        "\n",
        "    self.running_mean = torch.zeros(dim)\n",
        "    self.running_var = torch.ones(dim)\n",
        "\n",
        "  def __call__(self, x):\n",
        "    if self.training:\n",
        "      if x.ndim == 2:\n",
        "        dim = 0\n",
        "      if x.ndim == 3:\n",
        "        dim = (0, 1)           # we need it (1, 1, n)\n",
        "\n",
        "      xmean = x.mean(0, keepdim = True)\n",
        "      xvar = x.var(0, keepdim = True)\n",
        "    else:\n",
        "      xmean = self.running_mean\n",
        "      xvar = self.running_var\n",
        "\n",
        "    xhat = (x - xmean) / torch.sqrt(xvar + self.eps)\n",
        "    self.out = self.gamma * xhat + self.beta\n",
        "\n",
        "    if self.training:\n",
        "      with torch.no_grad():\n",
        "        self.running_mean = (1 - self.momentum) * self.running_mean + (self.momentum) * xmean\n",
        "        self.running_var = (1 - self.momentum) * self.running_var + (self.momentum) * xvar\n",
        "\n",
        "    return self.out\n",
        "\n",
        "  def parameters(self):\n",
        "    return [self.gamma, self.beta]\n",
        "\n",
        "# ------------------------------------------------------------------------------\n",
        "\n",
        "class Tanh:\n",
        "  def __call__(self, x):\n",
        "    self.out = torch.tanh(x)\n",
        "    return self.out\n",
        "\n",
        "  def parameters(self):\n",
        "    return []\n",
        "\n",
        "# ------------------------------------------------------------------------------\n",
        "\n",
        "class Embedding:\n",
        "  def __init__(self, num_embeddings, embedding_dim):\n",
        "    self.weight = torch.randn((num_embeddings, embedding_dim))\n",
        "\n",
        "  def __call__(self, IX):\n",
        "    self.out = self.weight[IX]\n",
        "    return self.out\n",
        "\n",
        "  def parameters(self):\n",
        "    return []\n",
        "\n",
        "# ------------------------------------------------------------------------------\n",
        "\n",
        "class FlattenWNT:\n",
        "  def __init__(self, n):\n",
        "    self.n = n\n",
        "\n",
        "  def __call__(self, x):\n",
        "    B, T, C = x.shape\n",
        "    assert T % self.n == 0, f\"Dimension mismatch: {T} cannot be divided by {self.n}\"\n",
        "    x = x.view(B, T // self.n, C * self.n)\n",
        "\n",
        "    if x.shape[1] == 1:\n",
        "      x = x.squeeze(1)\n",
        "\n",
        "    self.out = x\n",
        "    return self.out\n",
        "\n",
        "  def parameters(self):\n",
        "    return []\n",
        "\n",
        "# ------------------------------------------------------------------------------\n",
        "\n",
        "class Sequential:\n",
        "  def __init__(self, layers):\n",
        "    self.layers = layers\n",
        "\n",
        "  def __call__(self, x):\n",
        "    for layer in self.layers:\n",
        "      x = layer(x)\n",
        "    return x\n",
        "\n",
        "  def parameters(self):\n",
        "    return [p for layer in self.layers for p in layer.parameters()]\n",
        "\n",
        "# ------------------------------------------------------------------------------\n"
      ],
      "metadata": {
        "id": "b6R3VM7S7uZM"
      },
      "execution_count": 22,
      "outputs": []
    },
    {
      "cell_type": "code",
      "source": [
        "block_size = 8 # context length: how many characters do we take to predict the next one\n",
        "\n",
        "def build_dataset(words):\n",
        "  # build the dataset\n",
        "\n",
        "  X, Y = [], []\n",
        "  for w in words:\n",
        "    context = [0] * block_size\n",
        "    for ch in w + '.':\n",
        "      ix = stoi[ch]\n",
        "      X.append(context)\n",
        "      Y.append(ix)\n",
        "      context = context[1:] + [ix] # crop and append\n",
        "\n",
        "  X = torch.tensor(X)\n",
        "  Y = torch.tensor(Y)\n",
        "  print(X.shape, Y.shape)\n",
        "  return X, Y"
      ],
      "metadata": {
        "id": "wr9Df_Is6RkN"
      },
      "execution_count": 23,
      "outputs": []
    },
    {
      "cell_type": "code",
      "source": [
        "import random\n",
        "random.shuffle(words)\n",
        "\n",
        "num1 = len(words) * 0.8\n",
        "Xtr, Ytr = build_dataset(words[:int(num1)])\n",
        "Xte, Yte = build_dataset(words[int(num1):])\n",
        "\n",
        "g = torch.Generator().manual_seed(42)"
      ],
      "metadata": {
        "colab": {
          "base_uri": "https://localhost:8080/"
        },
        "id": "h0IpJ2mRBy8u",
        "outputId": "2cee4899-b8e7-46d7-f225-03a5d5fa1de2"
      },
      "execution_count": 24,
      "outputs": [
        {
          "output_type": "stream",
          "name": "stdout",
          "text": [
            "torch.Size([182536, 8]) torch.Size([182536])\n",
            "torch.Size([45610, 8]) torch.Size([45610])\n"
          ]
        }
      ]
    },
    {
      "cell_type": "code",
      "source": [
        "n_emb = 10\n",
        "n_hidden = 68 # for getting identical number of parameters\n",
        "\n",
        "model = Sequential([\n",
        "    Embedding(vocab_size, n_emb),\n",
        "    FlattenWNT(2), Linear(n_emb * 2, n_hidden, bias = False), BatchNorm1d(n_hidden), Tanh(),\n",
        "    FlattenWNT(2), Linear(n_hidden * 2, n_hidden, bias = False), BatchNorm1d(n_hidden), Tanh(),\n",
        "    FlattenWNT(2), Linear(n_hidden * 2, n_hidden, bias = False), BatchNorm1d(n_hidden), Tanh(),\n",
        "    Linear(n_hidden, vocab_size),\n",
        "])\n",
        "\n",
        "with torch.no_grad():\n",
        "  model.layers[-1].weight *= 0.1\n",
        "  for layer in model.layers[:-1]:\n",
        "    if isinstance(layer, Linear):\n",
        "      layer.weight *= (5/3)\n",
        "\n",
        "parameters = model.parameters()\n",
        "print(sum(p.nelement() for p in parameters))\n",
        "\n",
        "for p in parameters:\n",
        "  p.requires_grad = True"
      ],
      "metadata": {
        "colab": {
          "base_uri": "https://localhost:8080/"
        },
        "id": "dC99LcYRBZSS",
        "outputId": "50d2d865-d4e8-4aa4-b823-021eb589551b"
      },
      "execution_count": 25,
      "outputs": [
        {
          "output_type": "stream",
          "name": "stdout",
          "text": [
            "22127\n"
          ]
        }
      ]
    },
    {
      "cell_type": "code",
      "source": [
        "ix = torch.randint(0, Xtr.shape[0], (4,))\n",
        "Xb, Yb = Xtr[ix], Ytr[ix]\n",
        "\n",
        "# forward pass\n",
        "logits = model(Xb)\n",
        "Xb.shape"
      ],
      "metadata": {
        "colab": {
          "base_uri": "https://localhost:8080/"
        },
        "id": "Cpq1D9pMXh2t",
        "outputId": "b01c0bbf-298a-49f8-ca6b-2426a5fafa5f"
      },
      "execution_count": 26,
      "outputs": [
        {
          "output_type": "execute_result",
          "data": {
            "text/plain": [
              "torch.Size([4, 8])"
            ]
          },
          "metadata": {},
          "execution_count": 26
        }
      ]
    },
    {
      "cell_type": "code",
      "source": [
        "stat = [[layer.__class__.__name__, tuple(layer.out.shape)] for layer in model.layers]\n",
        "for layer, shape in stat:\n",
        "  print(f'{layer} : {shape}')"
      ],
      "metadata": {
        "colab": {
          "base_uri": "https://localhost:8080/"
        },
        "id": "i87UHzscXn-V",
        "outputId": "0c47138a-6d41-49a2-f861-0ebe77164522"
      },
      "execution_count": 27,
      "outputs": [
        {
          "output_type": "stream",
          "name": "stdout",
          "text": [
            "Embedding : (4, 8, 10)\n",
            "FlattenWNT : (4, 4, 20)\n",
            "Linear : (4, 4, 68)\n",
            "BatchNorm1d : (4, 4, 68)\n",
            "Tanh : (4, 4, 68)\n",
            "FlattenWNT : (4, 2, 136)\n",
            "Linear : (4, 2, 68)\n",
            "BatchNorm1d : (4, 2, 68)\n",
            "Tanh : (4, 2, 68)\n",
            "FlattenWNT : (4, 136)\n",
            "Linear : (4, 68)\n",
            "BatchNorm1d : (4, 68)\n",
            "Tanh : (4, 68)\n",
            "Linear : (4, 27)\n"
          ]
        }
      ]
    },
    {
      "cell_type": "code",
      "source": [
        "lr = 0.12\n",
        "epochs = 70000\n",
        "batch_size = 32\n",
        "losses = []\n",
        "ud = []\n",
        "\n",
        "for epoch in range(epochs + 1):\n",
        "  if epoch > 50000:\n",
        "    lr = 0.01\n",
        "\n",
        "  # minibatch\n",
        "  ix = torch.randint(0, Xtr.shape[0], (batch_size,), generator = g)\n",
        "  Xb, Yb = Xtr[ix], Ytr[ix]\n",
        "\n",
        "  # forward pass\n",
        "  logits = model(Xb)\n",
        "  loss = F.cross_entropy(logits, Yb)\n",
        "\n",
        "  # backward pass\n",
        "  for p in parameters:\n",
        "    p.grad = None\n",
        "  loss.backward()\n",
        "\n",
        "  # update parameters\n",
        "  for p in parameters:\n",
        "    p.data += -lr * p.grad\n",
        "\n",
        "  if epoch % 10000 == 0:\n",
        "    print(f'{epoch} / {epochs}: {loss.item() : .4f}')\n",
        "  losses.append(loss.item())"
      ],
      "metadata": {
        "colab": {
          "base_uri": "https://localhost:8080/"
        },
        "id": "OC2BDoGFBb8F",
        "outputId": "974abe5d-5948-496a-fe8b-731e35860021"
      },
      "execution_count": 28,
      "outputs": [
        {
          "output_type": "stream",
          "name": "stdout",
          "text": [
            "0 / 70000:  3.2775\n",
            "10000 / 70000:  2.0665\n",
            "20000 / 70000:  2.1711\n",
            "30000 / 70000:  2.3255\n",
            "40000 / 70000:  2.2173\n",
            "50000 / 70000:  2.2575\n",
            "60000 / 70000:  2.0472\n",
            "70000 / 70000:  2.0994\n"
          ]
        }
      ]
    },
    {
      "cell_type": "code",
      "source": [
        "plt.plot([250 * x for x in range(280)],torch.tensor(losses[:-1]).view(-1, 250).mean(1))"
      ],
      "metadata": {
        "id": "PQxO_mZrB6Ov",
        "colab": {
          "base_uri": "https://localhost:8080/",
          "height": 448
        },
        "outputId": "084e9c1c-f5d6-4351-9305-6e4435b9b43b"
      },
      "execution_count": 29,
      "outputs": [
        {
          "output_type": "execute_result",
          "data": {
            "text/plain": [
              "[<matplotlib.lines.Line2D at 0x7e0c0a80a440>]"
            ]
          },
          "metadata": {},
          "execution_count": 29
        },
        {
          "output_type": "display_data",
          "data": {
            "text/plain": [
              "<Figure size 640x480 with 1 Axes>"
            ],
            "image/png": "[encoded data removed]"
          },
          "metadata": {}
        }
      ]
    },
    {
      "cell_type": "code",
      "source": [
        "for layer in model.layers:\n",
        "  layer.training = False"
      ],
      "metadata": {
        "id": "wQuOtqC5CjpL"
      },
      "execution_count": 30,
      "outputs": []
    },
    {
      "cell_type": "code",
      "source": [
        "@torch.no_grad() # this decorator disables gradient tracking\n",
        "def split_loss(split):\n",
        "  x, y = {\n",
        "      'train' : (Xtr, Ytr),\n",
        "      'test' : (Xte, Yte)\n",
        "  }[split]\n",
        "  logits = model(x)\n",
        "  loss = F.cross_entropy(logits, y)\n",
        "  print(f'Model loss : {loss.item() : .4f}')\n",
        "\n",
        "# put layers into eval mode\n",
        "for layer in model.layers:\n",
        "  layer.training = False\n",
        "\n",
        "split_loss(\"train\")\n",
        "split_loss(\"test\")"
      ],
      "metadata": {
        "id": "-TtzDDR-Cmep",
        "colab": {
          "base_uri": "https://localhost:8080/"
        },
        "outputId": "26495ff5-80fe-4513-e52a-eeadf4232f98"
      },
      "execution_count": 31,
      "outputs": [
        {
          "output_type": "stream",
          "name": "stdout",
          "text": [
            "Model loss :  2.0183\n",
            "Model loss :  2.0691\n"
          ]
        }
      ]
    },
    {
      "cell_type": "code",
      "source": [
        "# sample from the model\n",
        "g = torch.Generator().manual_seed(2147483647 + 10)\n",
        "\n",
        "for _ in range(20):\n",
        "    out = []\n",
        "    context = [0] * block_size # initialize with all ...\n",
        "    while True:\n",
        "      # forward pass the neural net\n",
        "      logits = model(torch.tensor([context]))\n",
        "      probs = F.softmax(logits, dim=1)\n",
        "      # sample from the distribution\n",
        "      ix = torch.multinomial(probs, num_samples=1, generator=g).item()\n",
        "      # shift the context window and track the samples\n",
        "      context = context[1:] + [ix]\n",
        "      out.append(ix)\n",
        "      # if we sample the special '.' token, break\n",
        "      if ix == 0:\n",
        "        break\n",
        "\n",
        "    print(''.join(itos[i] for i in out))"
      ],
      "metadata": {
        "id": "MITTpE3lEApT",
        "colab": {
          "base_uri": "https://localhost:8080/"
        },
        "outputId": "7d5414f3-e94a-418b-fa06-979a0c25ed8f"
      },
      "execution_count": 32,
      "outputs": [
        {
          "output_type": "stream",
          "name": "stdout",
          "text": [
            "morabimyah.\n",
            "seelen.\n",
            "hayla.\n",
            "rethan.\n",
            "ejdrlee.\n",
            "adered.\n",
            "elilee.\n",
            "parelle.\n",
            "elissope.\n",
            "raylynn.\n",
            "honel.\n",
            "nyshub.\n",
            "roshirie.\n",
            "trinton.\n",
            "kyrin.\n",
            "teron.\n",
            "ubekted.\n",
            "ryyah.\n",
            "faela.\n",
            "kaysh.\n"
          ]
        }
      ]
    },
    {
      "cell_type": "markdown",
      "source": [
        "**WAVENET RESULTS**\n",
        "\n",
        " ```\n",
        " BATCH SIZE  |  PERFORMANCE\n",
        "--------------------------------\n",
        " Wavenet(8)  |  train = 2.0183\n",
        "             |   test = 2.0691\n",
        "--------------------------------\n",
        "```"
      ],
      "metadata": {
        "id": "RK_6aaxQ-Lt9"
      }
    },
    {
      "cell_type": "markdown",
      "source": [
        "# **EXPERIMENTATION**"
      ],
      "metadata": {
        "id": "bC5mmH6K_bMr"
      }
    },
    {
      "cell_type": "code",
      "source": [
        "def build_dataset(words, block_size):\n",
        "  # build the dataset\n",
        "\n",
        "  X, Y = [], []\n",
        "  for w in words:\n",
        "    context = [0] * block_size\n",
        "    for ch in w + '.':\n",
        "      ix = stoi[ch]\n",
        "      X.append(context)\n",
        "      Y.append(ix)\n",
        "      context = context[1:] + [ix] # crop and append\n",
        "\n",
        "  X = torch.tensor(X)\n",
        "  Y = torch.tensor(Y)\n",
        "  return X, Y\n"
      ],
      "metadata": {
        "id": "qrGapByyMbyL"
      },
      "execution_count": 33,
      "outputs": []
    },
    {
      "cell_type": "code",
      "source": [
        "def train_model(Xtr, Ytr, N, n_emb, n_hidden,batch_size):\n",
        "  lr = 0.12\n",
        "  epochs = 70000\n",
        "  losses = []\n",
        "  params = []\n",
        "\n",
        "  model = Sequential([\n",
        "    Embedding(vocab_size, n_emb),\n",
        "    FlattenWNT(N), Linear(n_emb * N, n_hidden, bias = False), BatchNorm1d(n_hidden), Tanh(),\n",
        "    FlattenWNT(N), Linear(n_hidden * N, n_hidden, bias = False), BatchNorm1d(n_hidden), Tanh(),\n",
        "    FlattenWNT(N), Linear(n_hidden * N, n_hidden, bias = False), BatchNorm1d(n_hidden), Tanh(),\n",
        "    Linear(n_hidden, vocab_size),\n",
        "  ])\n",
        "\n",
        "\n",
        "  with torch.no_grad():\n",
        "    model.layers[-1].weight *= 0.1\n",
        "    for layer in model.layers[:-1]:\n",
        "      if isinstance(layer, Linear):\n",
        "        layer.weight *= (5/3)\n",
        "  parameters = model.parameters()\n",
        "  params.append(sum(p.nelement() for p in parameters))\n",
        "\n",
        "  for p in parameters:\n",
        "    p.requires_grad = True\n",
        "\n",
        "  for epoch in range(1, epochs + 2):\n",
        "    if epoch > 50000:\n",
        "      lr = 0.01\n",
        "\n",
        "    # minibatch\n",
        "    ix = torch.randint(0, Xtr.shape[0], (batch_size,), generator = g)\n",
        "    Xb, Yb = Xtr[ix], Ytr[ix]\n",
        "\n",
        "\n",
        "    # forward pass\n",
        "    logits = model(Xb)\n",
        "    loss = F.cross_entropy(logits, Yb)\n",
        "\n",
        "    # backward pass\n",
        "    for p in parameters:\n",
        "      p.grad = None\n",
        "    loss.backward()\n",
        "\n",
        "    # update parameters\n",
        "    for p in parameters:\n",
        "      p.data += -lr * p.grad\n",
        "\n",
        "    if epoch % 7000 == 0:\n",
        "      print(f\"{'# ' * (epoch // 7000) + '  ' * (10 - (epoch // 7000)) } : {(epoch // 700):<3} % | Loss : {loss : .4f}\")\n",
        "    losses.append(loss.item())\n",
        "\n",
        "  return losses, params, model"
      ],
      "metadata": {
        "id": "PeudmQy1_ejK"
      },
      "execution_count": 34,
      "outputs": []
    },
    {
      "cell_type": "code",
      "source": [
        "@torch.no_grad() # this decorator disables gradient tracking\n",
        "def split_loss(x, y ,text, model):\n",
        "  for layer in model.layers:\n",
        "    layer.training = False\n",
        "\n",
        "  logits = model(x)\n",
        "  loss = F.cross_entropy(logits, y)\n",
        "  loss = f'{loss : .4f}'\n",
        "\n",
        "  return loss"
      ],
      "metadata": {
        "id": "ZakaxCxbEbiX"
      },
      "execution_count": 35,
      "outputs": []
    },
    {
      "cell_type": "code",
      "source": [
        "num1 = len(words) * 0.8\n",
        "\n",
        "def validate(size, N, n_emb, n_hidden, batch_size, block_size):\n",
        "  params = []\n",
        "  model_name = []\n",
        "  tr_l =[]\n",
        "  te_l =[]\n",
        "\n",
        "  print('Training started!')\n",
        "\n",
        "  plt.figure(figsize = (10, 5))\n",
        "  for k in range(size):\n",
        "    mod_name = f'Wavenet_mod - {k+1}'\n",
        "    print(mod_name)\n",
        "    random.shuffle(words)\n",
        "    Xtr, Ytr = build_dataset(words[:int(num1)], block_size[k])\n",
        "    Xte, Yte = build_dataset(words[int(num1):], block_size[k])\n",
        "\n",
        "\n",
        "    model_name.append(mod_name)\n",
        "    losses, params_count, model = train_model(Xtr, Ytr, N[k],n_emb[k], n_hidden[k],batch_size[k])\n",
        "    params.append(params_count)\n",
        "\n",
        "    plt.plot([250 * x for x in range(280)],torch.tensor(losses[:-1]).view(-1, 250).mean(1), label = mod_name)\n",
        "\n",
        "    train_loss = split_loss(Xtr, Ytr, 'train', model)\n",
        "    test_loss = split_loss(Xte, Yte, 'test', model)\n",
        "\n",
        "    tr_l.append(train_loss)\n",
        "    te_l.append(test_loss)\n",
        "\n",
        "    print()\n",
        "\n",
        "  plt.legend()\n",
        "\n",
        "  return params, model_name, tr_l, te_l"
      ],
      "metadata": {
        "id": "hwZn8PVjBw9w"
      },
      "execution_count": 36,
      "outputs": []
    },
    {
      "cell_type": "code",
      "source": [
        "def printResult(N, n_emb,n_hidden,batch_size, block_size, params_count, model_name, train_loss, test_loss):\n",
        "  strn = '|   model_name   |   N   |  n_emb | n_hidden | batch_size | block_size | params_count | train_loss | test_loss |'\n",
        "\n",
        "  print(f'Model Evaluations')\n",
        "  print('-' * len(strn))\n",
        "  print(strn)\n",
        "  print('-' * len(strn))\n",
        "\n",
        "  for k in range(len(N)):\n",
        "    model_strn = f'|{model_name[k]:^12}|{N[k]:^7}|{n_emb[k]:^8}|{n_hidden[k]:^10}|{batch_size[k]:^12}|{block_size[k]:^12}|{params_count[k][0]:^14}|{train_loss[k]:^12}|{test_loss[k]:^11}|'\n",
        "\n",
        "    print(model_strn)\n"
      ],
      "metadata": {
        "id": "QBAygq8QSeOD"
      },
      "execution_count": 37,
      "outputs": []
    },
    {
      "cell_type": "code",
      "source": [
        "N  = [2, 2, 2, 3, 3]\n",
        "n_emb = [8, 10, 12, 10, 12]\n",
        "n_hidden = [100, 150, 150, 100, 150]\n",
        "batch_size = [32, 32, 48, 32, 48]\n",
        "block_size = [8, 8, 8, 27, 27]\n",
        "\n",
        "params, mod_name, tr_l, te_l = validate(len(N), N, n_emb, n_hidden, batch_size, block_size)\n",
        "\n",
        "printResult(N, n_emb, n_hidden, batch_size, block_size, params, mod_name, tr_l, te_l)"
      ],
      "metadata": {
        "colab": {
          "base_uri": "https://localhost:8080/",
          "height": 1000
        },
        "id": "2cvGJfCC-sdf",
        "outputId": "54eb4393-e379-41cb-df49-a338d9ea02d3"
      },
      "execution_count": 39,
      "outputs": [
        {
          "output_type": "stream",
          "name": "stdout",
          "text": [
            "Training started!\n",
            "Wavenet_mod - 1\n",
            "#                    : 10  % | Loss :  2.2470\n",
            "# #                  : 20  % | Loss :  2.1113\n",
            "# # #                : 30  % | Loss :  1.9036\n",
            "# # # #              : 40  % | Loss :  2.0780\n",
            "# # # # #            : 50  % | Loss :  2.1322\n",
            "# # # # # #          : 60  % | Loss :  2.0831\n",
            "# # # # # # #        : 70  % | Loss :  1.8290\n",
            "# # # # # # # #      : 80  % | Loss :  1.5803\n",
            "# # # # # # # # #    : 90  % | Loss :  2.3329\n",
            "# # # # # # # # # #  : 100 % | Loss :  2.3267\n",
            "\n",
            "Wavenet_mod - 2\n",
            "#                    : 10  % | Loss :  2.2441\n",
            "# #                  : 20  % | Loss :  2.0627\n",
            "# # #                : 30  % | Loss :  2.0528\n",
            "# # # #              : 40  % | Loss :  1.7797\n",
            "# # # # #            : 50  % | Loss :  2.1155\n",
            "# # # # # #          : 60  % | Loss :  1.7937\n",
            "# # # # # # #        : 70  % | Loss :  2.2004\n",
            "# # # # # # # #      : 80  % | Loss :  1.7017\n",
            "# # # # # # # # #    : 90  % | Loss :  2.1851\n",
            "# # # # # # # # # #  : 100 % | Loss :  2.3261\n",
            "\n",
            "Wavenet_mod - 3\n",
            "#                    : 10  % | Loss :  2.0426\n",
            "# #                  : 20  % | Loss :  2.1014\n",
            "# # #                : 30  % | Loss :  2.4176\n",
            "# # # #              : 40  % | Loss :  1.6631\n",
            "# # # # #            : 50  % | Loss :  1.8404\n",
            "# # # # # #          : 60  % | Loss :  2.0813\n",
            "# # # # # # #        : 70  % | Loss :  1.9391\n",
            "# # # # # # # #      : 80  % | Loss :  2.1391\n",
            "# # # # # # # # #    : 90  % | Loss :  1.8177\n",
            "# # # # # # # # # #  : 100 % | Loss :  1.7339\n",
            "\n",
            "Wavenet_mod - 4\n",
            "#                    : 10  % | Loss :  2.2127\n",
            "# #                  : 20  % | Loss :  2.1935\n",
            "# # #                : 30  % | Loss :  1.8164\n",
            "# # # #              : 40  % | Loss :  2.1830\n",
            "# # # # #            : 50  % | Loss :  1.9355\n",
            "# # # # # #          : 60  % | Loss :  1.8772\n",
            "# # # # # # #        : 70  % | Loss :  1.9320\n",
            "# # # # # # # #      : 80  % | Loss :  1.8077\n",
            "# # # # # # # # #    : 90  % | Loss :  1.8386\n",
            "# # # # # # # # # #  : 100 % | Loss :  1.8560\n",
            "\n",
            "Wavenet_mod - 5\n",
            "#                    : 10  % | Loss :  2.1133\n",
            "# #                  : 20  % | Loss :  2.0243\n",
            "# # #                : 30  % | Loss :  1.8509\n",
            "# # # #              : 40  % | Loss :  2.1872\n",
            "# # # # #            : 50  % | Loss :  1.9596\n",
            "# # # # # #          : 60  % | Loss :  1.9559\n",
            "# # # # # # #        : 70  % | Loss :  2.2500\n",
            "# # # # # # # #      : 80  % | Loss :  2.0886\n",
            "# # # # # # # # #    : 90  % | Loss :  2.2086\n",
            "# # # # # # # # # #  : 100 % | Loss :  1.7314\n",
            "\n",
            "Model Evaluations\n",
            "----------------------------------------------------------------------------------------------------------------\n",
            "|   model_name   |   N   |  n_emb | n_hidden | batch_size | block_size | params_count | train_loss | test_loss |\n",
            "----------------------------------------------------------------------------------------------------------------\n",
            "|Wavenet_mod - 1|   2   |   8    |   100    |     32     |     8      |    44927     |   1.9867   |   2.0498  |\n",
            "|Wavenet_mod - 2|   2   |   10   |   150    |     32     |     8      |    97977     |   1.9359   |   2.0204  |\n",
            "|Wavenet_mod - 3|   2   |   12   |   150    |     48     |     8      |    98577     |   1.8670   |   2.0042  |\n",
            "|Wavenet_mod - 4|   3   |   10   |   100    |     32     |     27     |    66327     |   2.2490   |   2.3064  |\n",
            "|Wavenet_mod - 5|   3   |   12   |   150    |     48     |     27     |    145377    |   2.1636   |   2.2360  |\n"
          ]
        },
        {
          "output_type": "display_data",
          "data": {
            "text/plain": [
              "<Figure size 1000x500 with 1 Axes>"
            ],
            "image/png": "[encoded data removed]"
          },
          "metadata": {}
        }
      ]
    },
    {
      "cell_type": "markdown",
      "source": [
        "**Hence the model with N = 2, n_emb = 12, batch_size = 48 and block_size = 8, performs well**\n",
        "\n",
        "Final evaluations\n",
        "\n",
        "```\n",
        "----------------------------------------------------------------------------------------------------------------\n",
        "|   model_name  |   N   |  n_emb | n_hidden | batch_size | block_size | params_count | train_loss | test_loss |\n",
        "----------------------------------------------------------------------------------------------------------------\n",
        "|Wavenet_mod - 1|   2   |   8    |   100    |     32     |     8      |    44927     |   1.9867   |   2.0498  |\n",
        "|Wavenet_mod - 2|   2   |   10   |   150    |     32     |     8      |    97977     |   1.9359   |   2.0204  |\n",
        "|Wavenet_mod - 3|   2   |   12   |   150    |     48     |     8      |    98577     |   1.8670   |   2.0042  |\n",
        "|Wavenet_mod - 4|   3   |   10   |   100    |     32     |     27     |    66327     |   2.2490   |   2.3064  |\n",
        "|Wavenet_mod - 5|   3   |   12   |   150    |     48     |     27     |    145377    |   2.1636   |   2.2360  |\n",
        "----------------------------------------------------------------------------------------------------------------\n",
        "```"
      ],
      "metadata": {
        "id": "47zNARNyNeKA"
      }
    }
  ]
}
